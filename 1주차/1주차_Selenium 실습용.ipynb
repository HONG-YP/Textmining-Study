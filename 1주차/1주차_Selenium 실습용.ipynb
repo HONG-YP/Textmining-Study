{
 "cells": [
  {
   "cell_type": "markdown",
   "metadata": {},
   "source": [
    "Selenium\n",
    "=====\n",
    "Selenium 설치\n",
    "-----\n",
    "Selenium 설치는 조금 복잡합니다.<br>\n",
    "우선 cmd창에 `pip install selenium`부터 실행하여 설치합니다.<br>\n",
    "그리고 <https://sites.google.com/a/chromium.org/chromedriver/downloads>에서 자기 크롬 버전에 맞는 실행파일을 다운 받아줍니다.<nr>\n",
    "다음, 다운 받은 위치의 경로를 복사해서 아래에 붙여 넣어주면 됩니다."
   ]
  },
  {
   "cell_type": "code",
   "execution_count": 1,
   "metadata": {
    "ExecuteTime": {
     "end_time": "2020-01-16T05:38:56.034984Z",
     "start_time": "2020-01-16T05:38:52.324396Z"
    }
   },
   "outputs": [],
   "source": [
    "from selenium import webdriver\n",
    "import time\n",
    "\n",
    "# 본인의 경로 설정해서 붙여두기\n",
    "# mac의 경우 확장자 (.exe)없이 불러오기\n",
    "driver = webdriver.Chrome(executable_path=r'C:\\Users\\HONG\\Desktop\\HONGYP\\BOAZ\\New 텍스트마이닝\\chromedriver_win32 (4)\\chromedriver.exe')"
   ]
  },
  {
   "cell_type": "code",
   "execution_count": 2,
   "metadata": {
    "ExecuteTime": {
     "end_time": "2020-01-16T05:42:20.753800Z",
     "start_time": "2020-01-16T05:42:20.425472Z"
    }
   },
   "outputs": [],
   "source": [
    "from bs4 import BeautifulSoup"
   ]
  },
  {
   "cell_type": "code",
   "execution_count": 3,
   "metadata": {
    "ExecuteTime": {
     "end_time": "2020-01-16T05:42:21.178046Z",
     "start_time": "2020-01-16T05:42:21.173401Z"
    }
   },
   "outputs": [],
   "source": [
    "import requests"
   ]
  },
  {
   "cell_type": "code",
   "execution_count": 5,
   "metadata": {
    "ExecuteTime": {
     "end_time": "2020-01-16T05:42:25.103183Z",
     "start_time": "2020-01-16T05:42:22.969076Z"
    }
   },
   "outputs": [],
   "source": [
    "driver.quit() # 드라이버를 닫습니다."
   ]
  },
  {
   "cell_type": "markdown",
   "metadata": {},
   "source": [
    "에브리타임 핫게시판 게시물 URL 크롤링\n",
    "=====\n",
    "일반적으로 BeautifulSoup을 사용하면 로그인을 해야만하는 페이지에서 정보를 가지고 올 수 없습니다.<br>\n",
    "때문에 이런 경우에는 Selenium을 활용해야만 합니다.<br>\n",
    "대학생 대표 커뮤니티 에브리타임의 핫게시판의 내용을 가지고 오는 것을 사례로 실전 연습을 해보겠습니다."
   ]
  },
  {
   "cell_type": "code",
   "execution_count": 4,
   "metadata": {
    "ExecuteTime": {
     "end_time": "2020-01-14T15:56:21.985379Z",
     "start_time": "2020-01-14T15:56:21.388022Z"
    }
   },
   "outputs": [],
   "source": [
    "# 에브리타임 불러오기\n",
    "driver.get('https://everytime.kr/')"
   ]
  },
  {
   "cell_type": "code",
   "execution_count": 8,
   "metadata": {
    "ExecuteTime": {
     "end_time": "2020-01-14T15:56:35.228253Z",
     "start_time": "2020-01-14T15:56:22.433218Z"
    }
   },
   "outputs": [],
   "source": [
    "# 로그인 (click)\n",
    "\n",
    "driver.find_element_by_xpath(\"/html/body/aside/div[1]/a[2]\").click()"
   ]
  },
  {
   "cell_type": "code",
   "execution_count": 12,
   "metadata": {
    "ExecuteTime": {
     "end_time": "2020-01-14T15:56:35.228253Z",
     "start_time": "2020-01-14T15:56:22.433218Z"
    }
   },
   "outputs": [],
   "source": [
    "#ID와 비밀번호 입력 (send_keys)\n",
    "\n",
    "ID = \"dbsvy96\"\n",
    "PW = \"ru5710ru\"\n",
    "\n",
    "driver.find_element_by_xpath('//*[@id=\"container\"]/form/p[1]/input').send_keys(ID)\n",
    "driver.find_element_by_xpath('//*[@id=\"container\"]/form/p[2]/input').send_keys(PW)\n",
    "driver.find_element_by_xpath('//*[@id=\"container\"]/form/p[3]/input').click()"
   ]
  },
  {
   "cell_type": "code",
   "execution_count": 13,
   "metadata": {
    "ExecuteTime": {
     "end_time": "2020-01-14T15:56:41.988696Z",
     "start_time": "2020-01-14T15:56:41.764297Z"
    }
   },
   "outputs": [],
   "source": [
    "# 핫게 접속\n",
    "driver.get('https://everytime.kr/hotarticle/p/1')"
   ]
  },
  {
   "cell_type": "code",
   "execution_count": 14,
   "metadata": {
    "ExecuteTime": {
     "end_time": "2020-01-14T15:56:47.072973Z",
     "start_time": "2020-01-14T15:56:47.014118Z"
    }
   },
   "outputs": [],
   "source": [
    "# 최초 접속시 팝업 닫기\n",
    "time.sleep(3)\n",
    "try:\n",
    "    driver.find_element_by_xpath('//*[@id=\"sheet\"]/ul/li[3]/a').click()\n",
    "except:\n",
    "    next"
   ]
  },
  {
   "cell_type": "code",
   "execution_count": 15,
   "metadata": {
    "ExecuteTime": {
     "end_time": "2020-01-14T15:56:58.338790Z",
     "start_time": "2020-01-14T15:56:58.329815Z"
    }
   },
   "outputs": [
    {
     "data": {
      "text/plain": [
       "['//*[@id=\"container\"]/div[2]/article[1]/a',\n",
       " '//*[@id=\"container\"]/div[2]/article[2]/a',\n",
       " '//*[@id=\"container\"]/div[2]/article[3]/a',\n",
       " '//*[@id=\"container\"]/div[2]/article[4]/a',\n",
       " '//*[@id=\"container\"]/div[2]/article[5]/a',\n",
       " '//*[@id=\"container\"]/div[2]/article[6]/a',\n",
       " '//*[@id=\"container\"]/div[2]/article[7]/a',\n",
       " '//*[@id=\"container\"]/div[2]/article[8]/a',\n",
       " '//*[@id=\"container\"]/div[2]/article[9]/a',\n",
       " '//*[@id=\"container\"]/div[2]/article[10]/a',\n",
       " '//*[@id=\"container\"]/div[2]/article[11]/a',\n",
       " '//*[@id=\"container\"]/div[2]/article[12]/a',\n",
       " '//*[@id=\"container\"]/div[2]/article[13]/a',\n",
       " '//*[@id=\"container\"]/div[2]/article[14]/a',\n",
       " '//*[@id=\"container\"]/div[2]/article[15]/a',\n",
       " '//*[@id=\"container\"]/div[2]/article[16]/a',\n",
       " '//*[@id=\"container\"]/div[2]/article[17]/a',\n",
       " '//*[@id=\"container\"]/div[2]/article[18]/a',\n",
       " '//*[@id=\"container\"]/div[2]/article[19]/a',\n",
       " '//*[@id=\"container\"]/div[2]/article[20]/a']"
      ]
     },
     "execution_count": 15,
     "metadata": {},
     "output_type": "execute_result"
    }
   ],
   "source": [
    "# xpath 만들기 (여기에서는 규칙을 발견하는 것이 가장 중요합니다.)\n",
    "\n",
    "# //*[@id=\"container\"]/div[2]/article[1]/a\n",
    "# //*[@id=\"container\"]/div[2]/article[2]/a\n",
    "# //*[@id=\"container\"]/div[2]/article[3]/a\n",
    "\n",
    "xpath_list = []\n",
    "\n",
    "for i in range(1, 21):\n",
    "    xpath = '//*[@id=\"container\"]/div[2]/article['+str(i)+']/a'\n",
    "    xpath_list.append(xpath)\n",
    "    \n",
    "xpath_list"
   ]
  },
  {
   "cell_type": "code",
   "execution_count": 16,
   "metadata": {
    "ExecuteTime": {
     "end_time": "2020-01-14T15:57:37.697406Z",
     "start_time": "2020-01-14T15:57:37.351820Z"
    }
   },
   "outputs": [
    {
     "data": {
      "text/plain": [
       "['https://everytime.kr/377399/v/133899719',\n",
       " 'https://everytime.kr/377399/v/133890622',\n",
       " 'https://everytime.kr/377398/v/133887757',\n",
       " 'https://everytime.kr/377399/v/133879855',\n",
       " 'https://everytime.kr/377398/v/133778980',\n",
       " 'https://everytime.kr/377398/v/133779831',\n",
       " 'https://everytime.kr/377398/v/133780270',\n",
       " 'https://everytime.kr/377398/v/133740100',\n",
       " 'https://everytime.kr/377398/v/133750921',\n",
       " 'https://everytime.kr/377399/v/133614532',\n",
       " 'https://everytime.kr/377398/v/133614504',\n",
       " 'https://everytime.kr/377399/v/133533452',\n",
       " 'https://everytime.kr/377398/v/133512728',\n",
       " 'https://everytime.kr/377398/v/133525268',\n",
       " 'https://everytime.kr/377399/v/133512784',\n",
       " 'https://everytime.kr/377399/v/133516737',\n",
       " 'https://everytime.kr/377398/v/133461605',\n",
       " 'https://everytime.kr/394848/v/133239068',\n",
       " 'https://everytime.kr/377398/v/133422320',\n",
       " 'https://everytime.kr/377398/v/133292656']"
      ]
     },
     "execution_count": 16,
     "metadata": {},
     "output_type": "execute_result"
    }
   ],
   "source": [
    "# 핫게 게시글 URL 수집 (get_attribute)\n",
    "\n",
    "url_list = []\n",
    "\n",
    "for i in range(len(xpath_list)):\n",
    "    url = driver.find_element_by_xpath(xpath_list[i]).get_attribute(\"href\")\n",
    "    url_list.append(url)\n",
    "    \n",
    "url_list"
   ]
  },
  {
   "cell_type": "code",
   "execution_count": 17,
   "metadata": {
    "ExecuteTime": {
     "end_time": "2020-01-14T15:58:04.401386Z",
     "start_time": "2020-01-14T15:58:04.395864Z"
    }
   },
   "outputs": [
    {
     "data": {
      "text/plain": [
       "20"
      ]
     },
     "execution_count": 17,
     "metadata": {},
     "output_type": "execute_result"
    }
   ],
   "source": [
    "# url_list 확인, url 개수 확인\n",
    "len(url_list)"
   ]
  },
  {
   "cell_type": "code",
   "execution_count": 29,
   "metadata": {},
   "outputs": [
    {
     "name": "stdout",
     "output_type": "stream",
     "text": [
      "35\n"
     ]
    }
   ],
   "source": [
    "# ver.1 다음 페이지 넘어가기 (동일한 동작을 하는 xpath가 페이지마다 다른 경우)\n",
    "# 사이트마다 페이지 버튼의 규칙이 상이하기 때문에 번거롭고 어려운 경우가 많지만 URL에 규칙이 있는 경우가 흔치 않음..\n",
    "\n",
    "\n",
    "\n",
    "\n",
    "url_list = []\n",
    "page = 1\n",
    "\n",
    "while True:\n",
    "    try:\n",
    "        for i in range(len(xpath_list)):\n",
    "            url = driver.find_element_by_xpath(xpath_list[i]).get_attribute('href')\n",
    "            url_list.append(url)\n",
    "\n",
    "        # 다음 페이지로 넘어가기 (Selenium의 단점으로 생각하는 부분)\n",
    "        if page == 1:\n",
    "            driver.find_element_by_xpath('//*[@id=\"container\"]/div[2]/div[2]/a').click() # 페이지 관련 버튼이 1개 (다음)\n",
    "            time.sleep(2)\n",
    "            page += 1\n",
    "        elif page == 2:\n",
    "            driver.find_element_by_xpath('//*[@id=\"container\"]/div[2]/div[2]/a[2]').click() # 페이지 관련 버튼이 2개 (이전 다음)\n",
    "            time.sleep(2)\n",
    "            page +=1\n",
    "        else:\n",
    "            driver.find_element_by_xpath('//*[@id=\"container\"]/div[2]/div[2]/a[3]').click() # 페이지 관련 버튼이 2개 (처음 이전 다음)\n",
    "            time.sleep(2)\n",
    "            page +=1\n",
    "    except: # 오류발생시 몇 페이지까지 크롤링했는지 page를 확인하기 # 직접 접속해보고 마지막 페이지가 맞는지 확인하기.\n",
    "        print(page)\n",
    "        break"
   ]
  },
  {
   "cell_type": "code",
   "execution_count": null,
   "metadata": {
    "ExecuteTime": {
     "end_time": "2020-01-14T16:25:38.403118Z",
     "start_time": "2020-01-14T15:58:13.941735Z"
    }
   },
   "outputs": [],
   "source": [
    "# ver.2 URL에 규칙이 숨어있는 경우 (편리하지만 흔하지 않은 경우)\n",
    "\n",
    "url_list = []\n",
    "page = 0\n",
    "\n",
    "while True:\n",
    "    try:\n",
    "        page += 1\n",
    "        driver.get('https://everytime.kr/hotarticle/p/'+str(page))\n",
    "        time.sleep(2)\n",
    "        for i in range(len(xpath_list)):\n",
    "            url = driver.find_element_by_xpath(xpath_list[i]).get_attribute('href')\n",
    "            url_list.append(url)\n",
    "    except: # 오류발생시 몇 페이지까지 크롤링했는지 page를 확인하기 # 직접 접속해보고 마지막 페이지가 맞는지 확인하기.\n",
    "        print(page)\n",
    "        break"
   ]
  },
  {
   "cell_type": "code",
   "execution_count": 30,
   "metadata": {
    "ExecuteTime": {
     "end_time": "2020-01-14T16:27:05.526884Z",
     "start_time": "2020-01-14T16:27:05.488988Z"
    }
   },
   "outputs": [
    {
     "name": "stdout",
     "output_type": "stream",
     "text": [
      "700\n"
     ]
    }
   ],
   "source": [
    "# URL 개수 확인\n",
    "\n",
    "len(url_list)"
   ]
  },
  {
   "cell_type": "code",
   "execution_count": null,
   "metadata": {
    "ExecuteTime": {
     "end_time": "2020-01-14T16:27:29.926858Z",
     "start_time": "2020-01-14T16:27:23.167674Z"
    }
   },
   "outputs": [],
   "source": [
    "# csv 파일로 저장\n",
    "import pandas as pd\n",
    "\n",
    "url_data = pd.DataFrame({'url_list': url_list})\n",
    "url_data.to_csv('에브리타임 핫게 URL.csv', encoding = 'utf-8')"
   ]
  },
  {
   "cell_type": "code",
   "execution_count": null,
   "metadata": {},
   "outputs": [],
   "source": []
  }
 ],
 "metadata": {
  "kernelspec": {
   "display_name": "Python 3",
   "language": "python",
   "name": "python3"
  },
  "language_info": {
   "codemirror_mode": {
    "name": "ipython",
    "version": 3
   },
   "file_extension": ".py",
   "mimetype": "text/x-python",
   "name": "python",
   "nbconvert_exporter": "python",
   "pygments_lexer": "ipython3",
   "version": "3.7.3"
  }
 },
 "nbformat": 4,
 "nbformat_minor": 2
}

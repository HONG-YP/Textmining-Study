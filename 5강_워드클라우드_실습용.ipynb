{
 "cells": [
  {
   "attachments": {
    "image.png": {
     "image/png": "[encoded data removed]"
    }
   },
   "cell_type": "markdown",
   "metadata": {},
   "source": [
    "KoNLPy 설치\n",
    "-----\n",
    "\n",
    "자세한 설치방법<br>\n",
    "https://hong-yp-ml-records.tistory.com/37?category=847360<br>\n",
    "제 블로그입니다...^^\n",
    "\n",
    "1. JDK 다운 받기<br>\n",
    "http://www.oracle.com/technetwork/java/javase/downloads/index.html<br>\n",
    "위 링크에서 자신의 컴퓨터 OS에 맞는 JDK 파일을 다운로드 받은 뒤 파일을 실행시킵니다.\n",
    "\n",
    "2. 시스템 환경 변수 설정하기<br>\n",
    "컴퓨터에서 시스템 환경 변수 편집(제어판)을 검색합니다.<br>\n",
    "누르면 나오는 창에서 고급 탭의 환경변수를 누릅니다.<br>\n",
    "위의 사용자 변수에서 '새로 만들기' 버튼을 누르고 변수 이름에 'JAVA_HOME', 값에는 앞서 다운받은 JDK 파일의 경로를 붙여 넣습니다.<br>\n",
    "아래 시스템 변수에서도 똑같은 작업을 해줍니다.\n",
    "![image.png](attachment:image.png)\n",
    "3. JPype 설치하기<br>\n",
    "http://www.lfd.uci.edu/~gohlke/pythonlibs/#jpype<br>\n",
    "위 링크에서 자신의 파이썬 버전과 OS에 맞는 파일을 다운로드 받습니다.<br>\n",
    "(파이썬 버전 확인 방법: anaconda prompt에 python -V 입력)<br>\n",
    "다음 파일의 경로를 복사한 뒤 cmd 창에서 해당 경로로 전환해줍니다.<br>\n",
    "이후 .whl파일 명을 복사한 뒤 `pip install [파일명.whl]`을 실행해줍니다.<br>\n",
    "만약 업데이트가 필요하다는 문구가 뜬다면 `python -m pip install --upgrade pip`를 입력하세요.\n",
    "\n",
    "4. KoNLPy 설치하기<br>\n",
    "마지막은 간단합니다. anaconda prompt에 `pip install konlpy`를 입력하시면 됩니다."
   ]
  },
  {
   "cell_type": "markdown",
   "metadata": {},
   "source": [
    "'수돗물 유충' 네이버 기사 워드 클라우드\n",
    "-----\n",
    "워드 클라우드는 텍스트에 쓰인 단어를 빈도 분석한 후 시각화 한 결과물을 말합니다.<br>\n",
    "때문에 워드 클라우드는 '빈도 분석'을 우선시하는데요, '빈도 분석' 이후 결과물을 시각화하여 봅시다."
   ]
  },
  {
   "cell_type": "code",
   "execution_count": 1,
   "metadata": {},
   "outputs": [],
   "source": [
    "# import\n"
   ]
  },
  {
   "cell_type": "code",
   "execution_count": 84,
   "metadata": {
    "ExecuteTime": {
     "end_time": "2020-01-25T19:49:14.863350Z",
     "start_time": "2020-01-25T19:49:14.725729Z"
    }
   },
   "outputs": [],
   "source": [
    "# Okt 불러오기\n",
    "# Twitter의 이름이 Okt로 변경됨.\n",
    "\n",
    "\n",
    "# twitter = konlpy.tag.twitter()로도 활용할 수 있음."
   ]
  },
  {
   "cell_type": "markdown",
   "metadata": {},
   "source": [
    "<img src=\"konlpy1.png\" alt=\"주요옵션\" style=\"width: 600px;\"/>"
   ]
  },
  {
   "cell_type": "markdown",
   "metadata": {},
   "source": [
    "<img src=\"konlpy2.png\" alt=\"주요옵션\" style=\"width: 600px;\"/>"
   ]
  },
  {
   "cell_type": "code",
   "execution_count": 85,
   "metadata": {
    "ExecuteTime": {
     "end_time": "2020-01-25T19:49:16.393552Z",
     "start_time": "2020-01-25T19:49:14.865344Z"
    }
   },
   "outputs": [],
   "source": [
    "import pandas as pd\n",
    "import re"
   ]
  },
  {
   "cell_type": "code",
   "execution_count": 111,
   "metadata": {
    "ExecuteTime": {
     "end_time": "2020-01-25T19:49:16.460865Z",
     "start_time": "2020-01-25T19:49:16.417981Z"
    }
   },
   "outputs": [],
   "source": [
    "# 데이터 불러오기\n",
    "df = pd.read_csv('네이버 뉴스 크롤링.csv')\n",
    "df.head()"
   ]
  },
  {
   "cell_type": "code",
   "execution_count": 87,
   "metadata": {
    "ExecuteTime": {
     "end_time": "2020-01-25T19:49:16.468843Z",
     "start_time": "2020-01-25T19:49:16.461868Z"
    }
   },
   "outputs": [],
   "source": [
    "# 데이터 정보 확인하기 .info()\n"
   ]
  },
  {
   "cell_type": "code",
   "execution_count": 88,
   "metadata": {
    "ExecuteTime": {
     "end_time": "2020-01-25T19:49:16.477853Z",
     "start_time": "2020-01-25T19:49:16.469842Z"
    }
   },
   "outputs": [],
   "source": [
    "# 데이터 결측값 개수 확인하기 \n"
   ]
  },
  {
   "cell_type": "code",
   "execution_count": 89,
   "metadata": {
    "ExecuteTime": {
     "end_time": "2020-01-25T19:49:16.501754Z",
     "start_time": "2020-01-25T19:49:16.480813Z"
    }
   },
   "outputs": [],
   "source": [
    "# 결측값 제거 및 인덱스 초기화\n"
   ]
  },
  {
   "cell_type": "code",
   "execution_count": 2,
   "metadata": {
    "ExecuteTime": {
     "end_time": "2020-01-25T19:49:16.509773Z",
     "start_time": "2020-01-25T19:49:16.503749Z"
    }
   },
   "outputs": [],
   "source": [
    "# 지난시간에 배운 re를 활용하여 Text Cleaning 연습 (두번째 기사제목)\n"
   ]
  },
  {
   "cell_type": "code",
   "execution_count": 11,
   "metadata": {
    "ExecuteTime": {
     "end_time": "2020-01-25T19:49:16.705272Z",
     "start_time": "2020-01-25T19:49:16.511730Z"
    }
   },
   "outputs": [],
   "source": [
    "# Text Cleaning\n",
    "data_list = []\n",
    "\n",
    "for k in range(len(df[\"기사 제목\"])):\n",
    "    title = re.sub('[^\\w\\s]',' ',df[\"기사 제목\"][k])\n",
    "    time = df[\"기사 작성일\"][k]\n",
    "    data = title, time\n",
    "    data_list.append(data)"
   ]
  },
  {
   "cell_type": "code",
   "execution_count": 12,
   "metadata": {
    "ExecuteTime": {
     "end_time": "2020-01-25T19:49:16.711234Z",
     "start_time": "2020-01-25T19:49:16.706207Z"
    }
   },
   "outputs": [],
   "source": [
    "# 새로운 데이터 프레임 만들기\n",
    "df2 = pd.DataFrame(data_list, columns = ['기사 제목', '기사 작성일'])"
   ]
  },
  {
   "cell_type": "code",
   "execution_count": 91,
   "metadata": {
    "ExecuteTime": {
     "end_time": "2020-01-25T19:49:16.724164Z",
     "start_time": "2020-01-25T19:49:16.712195Z"
    }
   },
   "outputs": [],
   "source": [
    "# 데이터프레임 확인하기\n"
   ]
  },
  {
   "cell_type": "code",
   "execution_count": 92,
   "metadata": {
    "ExecuteTime": {
     "end_time": "2020-01-25T19:49:19.582621Z",
     "start_time": "2020-01-25T19:49:16.727154Z"
    }
   },
   "outputs": [],
   "source": [
    "# Okt 활용하기 (1); morphs로 토큰화하기\n"
   ]
  },
  {
   "cell_type": "code",
   "execution_count": 93,
   "metadata": {
    "ExecuteTime": {
     "end_time": "2020-01-25T19:49:19.612538Z",
     "start_time": "2020-01-25T19:49:19.583583Z"
    }
   },
   "outputs": [],
   "source": [
    "# Okt 활용하기 (2) pos로 품사 태깅하기\n"
   ]
  },
  {
   "cell_type": "code",
   "execution_count": 94,
   "metadata": {
    "ExecuteTime": {
     "end_time": "2020-01-25T19:49:19.637469Z",
     "start_time": "2020-01-25T19:49:19.614510Z"
    }
   },
   "outputs": [],
   "source": [
    "# Okt 활용하기 (3); nouns로 명사만 추출하기\n"
   ]
  },
  {
   "cell_type": "code",
   "execution_count": 42,
   "metadata": {
    "ExecuteTime": {
     "end_time": "2020-01-25T19:49:28.401010Z",
     "start_time": "2020-01-25T19:49:19.638471Z"
    }
   },
   "outputs": [],
   "source": [
    "# 명사만 추출하여 새로운 데이터프레임 만들기\n",
    "data_list = []\n",
    "\n",
    "for k in range(len(df2[\"기사 제목\"])):\n",
    "    word_list = okt.nouns(df2[\"기사 제목\"][k])\n",
    "    for word in word_list:\n",
    "        time = df2[\"기사 작성일\"][k]\n",
    "        data = word, time\n",
    "        data_list.append(data)\n",
    "        \n",
    "df3 = pd.DataFrame(data_list, columns = ['단어', '기사 작성일'])"
   ]
  },
  {
   "cell_type": "code",
   "execution_count": 43,
   "metadata": {
    "ExecuteTime": {
     "end_time": "2020-01-25T19:49:28.412978Z",
     "start_time": "2020-01-25T19:49:28.403004Z"
    }
   },
   "outputs": [
    {
     "data": {
      "text/html": [
       "<div>\n",
       "<style scoped>\n",
       "    .dataframe tbody tr th:only-of-type {\n",
       "        vertical-align: middle;\n",
       "    }\n",
       "\n",
       "    .dataframe tbody tr th {\n",
       "        vertical-align: top;\n",
       "    }\n",
       "\n",
       "    .dataframe thead th {\n",
       "        text-align: right;\n",
       "    }\n",
       "</style>\n",
       "<table border=\"1\" class=\"dataframe\">\n",
       "  <thead>\n",
       "    <tr style=\"text-align: right;\">\n",
       "      <th></th>\n",
       "      <th>단어</th>\n",
       "      <th>기사 작성일</th>\n",
       "    </tr>\n",
       "  </thead>\n",
       "  <tbody>\n",
       "    <tr>\n",
       "      <th>0</th>\n",
       "      <td>광주</td>\n",
       "      <td>2020.07.18.</td>\n",
       "    </tr>\n",
       "    <tr>\n",
       "      <th>1</th>\n",
       "      <td>수돗물</td>\n",
       "      <td>2020.07.18.</td>\n",
       "    </tr>\n",
       "    <tr>\n",
       "      <th>2</th>\n",
       "      <td>유충</td>\n",
       "      <td>2020.07.18.</td>\n",
       "    </tr>\n",
       "    <tr>\n",
       "      <th>3</th>\n",
       "      <td>신고</td>\n",
       "      <td>2020.07.18.</td>\n",
       "    </tr>\n",
       "    <tr>\n",
       "      <th>4</th>\n",
       "      <td>정수</td>\n",
       "      <td>2020.07.18.</td>\n",
       "    </tr>\n",
       "  </tbody>\n",
       "</table>\n",
       "</div>"
      ],
      "text/plain": [
       "    단어       기사 작성일\n",
       "0   광주  2020.07.18.\n",
       "1  수돗물  2020.07.18.\n",
       "2   유충  2020.07.18.\n",
       "3   신고  2020.07.18.\n",
       "4   정수  2020.07.18."
      ]
     },
     "execution_count": 43,
     "metadata": {},
     "output_type": "execute_result"
    }
   ],
   "source": [
    "# 새로운 데이터프레임 확인하기\n",
    "df3.head()"
   ]
  },
  {
   "cell_type": "code",
   "execution_count": 95,
   "metadata": {
    "ExecuteTime": {
     "end_time": "2020-01-25T19:49:28.428973Z",
     "start_time": "2020-01-25T19:49:28.415970Z"
    }
   },
   "outputs": [],
   "source": [
    "# 새로운 데이터프레임의 데이터 타입 확인하기\n"
   ]
  },
  {
   "cell_type": "code",
   "execution_count": 96,
   "metadata": {
    "ExecuteTime": {
     "end_time": "2020-01-25T19:49:28.467833Z",
     "start_time": "2020-01-25T19:49:28.449881Z"
    }
   },
   "outputs": [],
   "source": [
    "# '유충'이라는 단어로 Boolean Indexing하여 새로운 데이터프레임 생성\n"
   ]
  },
  {
   "cell_type": "code",
   "execution_count": 97,
   "metadata": {},
   "outputs": [],
   "source": [
    "# '유충' 데이터프레임 확인\n"
   ]
  },
  {
   "cell_type": "code",
   "execution_count": 98,
   "metadata": {
    "ExecuteTime": {
     "end_time": "2020-01-25T19:49:28.642589Z",
     "start_time": "2020-01-25T19:49:28.488776Z"
    }
   },
   "outputs": [],
   "source": [
    "import matplotlib\n",
    "import matplotlib.pyplot as plt\n",
    "import seaborn as sns\n",
    "%matplotlib inline\n",
    "matplotlib.rcParams['font.family'].insert(0, 'Malgun Gothic')"
   ]
  },
  {
   "cell_type": "code",
   "execution_count": 100,
   "metadata": {},
   "outputs": [],
   "source": [
    "# 날짜를 기준으로 단어 countplot 그리기\n"
   ]
  },
  {
   "cell_type": "code",
   "execution_count": 102,
   "metadata": {
    "ExecuteTime": {
     "end_time": "2020-01-25T19:49:28.478802Z",
     "start_time": "2020-01-25T19:49:28.469826Z"
    }
   },
   "outputs": [],
   "source": [
    "# '서울'이라는 단어로 Boolean Indexing하여 새로운 데이터프레임 생성\n"
   ]
  },
  {
   "cell_type": "code",
   "execution_count": 103,
   "metadata": {},
   "outputs": [],
   "source": [
    "# '서울'단어의 데이터프레임 확인\n"
   ]
  },
  {
   "cell_type": "code",
   "execution_count": 105,
   "metadata": {
    "ExecuteTime": {
     "end_time": "2020-01-25T19:49:28.921657Z",
     "start_time": "2020-01-25T19:49:28.644398Z"
    }
   },
   "outputs": [],
   "source": [
    "# 날짜를 기준으로 단어 countplot 그리기\n"
   ]
  },
  {
   "cell_type": "code",
   "execution_count": 64,
   "metadata": {
    "ExecuteTime": {
     "end_time": "2020-01-25T19:49:28.926605Z",
     "start_time": "2020-01-25T19:49:28.922651Z"
    }
   },
   "outputs": [],
   "source": [
    "# 컨테이너에 동일한 값의 자료가 몇개인지를 파악하는데 사용하는 객체\n",
    "from collections import Counter"
   ]
  },
  {
   "cell_type": "code",
   "execution_count": 106,
   "metadata": {
    "ExecuteTime": {
     "end_time": "2020-01-25T19:49:28.951717Z",
     "start_time": "2020-01-25T19:49:28.927776Z"
    },
    "scrolled": true
   },
   "outputs": [],
   "source": [
    "# 단어 빈도수 측정하기\n"
   ]
  },
  {
   "cell_type": "code",
   "execution_count": 66,
   "metadata": {},
   "outputs": [],
   "source": [
    "# 불용어와 불필요한 1글자 단어를 제거하는 함수를 생성한다.\n",
    "# 편리하게 사용가능한 '불용어 사전'이라는 것도 있지만 이번 과정에서는 최대한 노가다해보자..^^\n",
    "\n",
    "stopword_list = [\"서도\", \"외적\"]\n",
    "\n",
    "# 불용어 제거 함수\n",
    "def remove_stopwords(words):\n",
    "    result = []\n",
    "    for w in words:\n",
    "        if w not in stopword_list:\n",
    "            result.append(w)\n",
    "    return result\n",
    "                \n",
    "# 한 글자 단어 제거 함수\n",
    "def remove_onewords(words):\n",
    "    result = []\n",
    "    for w in words:\n",
    "        if len(w) != 1:\n",
    "            result.append(w)\n",
    "    return result"
   ]
  },
  {
   "cell_type": "code",
   "execution_count": 67,
   "metadata": {},
   "outputs": [],
   "source": [
    "# 최종 함수 생성 (토큰화 + 불용어제거)\n",
    "\n",
    "data_list = []\n",
    "\n",
    "def tokenizing_and_cleaning(raw_text):\n",
    "    \n",
    "    # 명사 단위로 토큰화 하는 과정\n",
    "    token = okt.nouns(raw_text)\n",
    "    \n",
    "    # 불용어 제거 \n",
    "    stopwords = remove_stopwords(token)\n",
    "\n",
    "    # 한글자 단어 제거 \n",
    "    meaningful_words = remove_onewords(stopwords)\n",
    "    \n",
    "    data_list.append(meaningful_words)"
   ]
  },
  {
   "cell_type": "code",
   "execution_count": 113,
   "metadata": {},
   "outputs": [],
   "source": [
    "# 함수 적용\n",
    "\n",
    "\n",
    "# data_list 리스트 안의 단어들로 토큰만 들어있는 리스트를 만든다.\n",
    "\n",
    "word_list = []\n",
    "\n",
    "\n",
    "\n",
    "# Q. append가 아닌 extend를 사용하는 이유는 무엇인가?\n"
   ]
  },
  {
   "cell_type": "code",
   "execution_count": 108,
   "metadata": {
    "ExecuteTime": {
     "end_time": "2020-01-25T19:49:42.975026Z",
     "start_time": "2020-01-25T19:49:42.959422Z"
    }
   },
   "outputs": [],
   "source": [
    "# 데이터프레임으로 만들어준다.\n",
    "all_token = pd.DataFrame(word_list, columns = [\"토큰\"])\n",
    "all_token.head()"
   ]
  },
  {
   "cell_type": "code",
   "execution_count": 107,
   "metadata": {
    "ExecuteTime": {
     "end_time": "2020-01-25T19:49:42.992906Z",
     "start_time": "2020-01-25T19:49:42.975952Z"
    },
    "scrolled": true
   },
   "outputs": [],
   "source": [
    "# 상위 빈도순 100개\n"
   ]
  },
  {
   "cell_type": "code",
   "execution_count": 109,
   "metadata": {},
   "outputs": [],
   "source": [
    "# 데이터프레임으로 만들어준다.\n",
    "most_token = pd.DataFrame(most_word, columns = [\"단어 토큰\", \"빈도 수\"])\n",
    "most_token"
   ]
  },
  {
   "cell_type": "code",
   "execution_count": 110,
   "metadata": {
    "ExecuteTime": {
     "end_time": "2020-01-25T19:49:42.999896Z",
     "start_time": "2020-01-25T19:49:42.993904Z"
    }
   },
   "outputs": [],
   "source": [
    "# 워드 클라우드를 만들기 위해 사전(딕셔너리) 형태로 변경하기\n"
   ]
  },
  {
   "cell_type": "code",
   "execution_count": null,
   "metadata": {},
   "outputs": [],
   "source": [
    "! pip install wordcloud"
   ]
  },
  {
   "cell_type": "code",
   "execution_count": 78,
   "metadata": {
    "ExecuteTime": {
     "end_time": "2020-01-25T19:49:43.023827Z",
     "start_time": "2020-01-25T19:49:43.001883Z"
    }
   },
   "outputs": [],
   "source": [
    "# 미설치시 ! pip install wordcloud\n",
    "from wordcloud import WordCloud"
   ]
  },
  {
   "cell_type": "code",
   "execution_count": 79,
   "metadata": {
    "ExecuteTime": {
     "end_time": "2020-01-25T19:49:53.631410Z",
     "start_time": "2020-01-25T19:49:43.025819Z"
    }
   },
   "outputs": [],
   "source": [
    "# 워드클라우드 마스크 코드\n",
    "# 마스크를 위한 이미지는 png파일로 그림을 제외한 배경이 투명해야합니다. (포토샵의 바둑판표시)\n",
    "# 이미지 크기를 잘 조절해야 폰트가 깨지지 않는 선에서 글씨가 빼곡하게 들어갑니다! \n",
    "# plt의 colormap을 사용하여 원하는 색상을 지정해줄 수 있습니다.\n",
    "\n",
    "from PIL import Image\n",
    "import numpy as np\n",
    "import random\n",
    "\n",
    "icon = Image.open('larva.png')\n",
    "mask = Image.new(\"RGB\", icon.size, (400,400,400))\n",
    "mask.paste(icon,icon)\n",
    "mask = np.array(mask)\n",
    "cmap = plt.cm.PuBu\n",
    "\n",
    "# 아래의 코드는 이미지 본 색상을 따라가는 코드입니다. (그림 색상을 그대로 가져와서 사용해야 할 때 ex.태극 문양)\n",
    "from wordcloud import ImageColorGenerator\n",
    "image_colors = ImageColorGenerator(mask)\n",
    "\n",
    "# 시각화 하기 가장 좋고, 이쁘게 많은 정보를 표현할 수 있는 방법은 포토샵입니다!!!"
   ]
  },
  {
   "cell_type": "code",
   "execution_count": null,
   "metadata": {},
   "outputs": [],
   "source": [
    "# 워드 클라우드 출력하기\n",
    "wc = WordCloud(font_path = 'font.ttf',      # 폰트 지정 (본인이 원하는 폰트를 현재 디렉토리로 복붙하셔야합니다.) C:\\Windows\\Fonts에 있는 폰트를 복붙, 영어로 글꼴이름 변경\n",
    "               mask = mask,                 # 위에서 만들어준 마스크 지정\n",
    "               background_color = \"black\",  # 배경색 지정\n",
    "               max_font_size = 250,         # 폰트사이즈지정 (그림을 구체화 시킬 때 사용합니다. 적당한 선을 본인 그림에 맞게 찾으셔야합니다.)\n",
    "               margin = 0,                  # 토큰 사이사이의 빈 칸 크기 지정 (0이 가장 빼곡하므로 좋습니다.) \n",
    "               colormap = cmap)             # 위에서 지정한 plt의 colormap 지정 (본 워드클라우드는 이미지의 색을 따라가게 해놨으므로 적용되지 않습니다.)\n",
    "\n",
    "cloud = wc.generate_from_frequencies(word_dict) # 빈도수를 활용하여 워드클라우드에 적용\n",
    "\n",
    "plt.figure(figsize=(15,15))\n",
    "# 아래의 코드는 ImageColorGenerator를 적용시키기 위한 코드\n",
    "plt.imshow(cloud.recolor(color_func = image_colors), interpolation = \"sinc\") # interpolation는 이미지의 보간방법이라는데..지정해주는 인자마다 선명도의 차이를 보입니다.\n",
    "plt.axis(\"off\")\n",
    "plt.show()"
   ]
  },
  {
   "cell_type": "code",
   "execution_count": null,
   "metadata": {},
   "outputs": [],
   "source": [
    "# 워드클라우드 png 파일로 저장\n",
    "\n",
    "plt.imsave(\"텍스트마이닝 워드클라우드 실습.png\", cloud)"
   ]
  },
  {
   "cell_type": "code",
   "execution_count": null,
   "metadata": {},
   "outputs": [],
   "source": []
  }
 ],
 "metadata": {
  "kernelspec": {
   "display_name": "Python 3",
   "language": "python",
   "name": "python3"
  },
  "language_info": {
   "codemirror_mode": {
    "name": "ipython",
    "version": 3
   },
   "file_extension": ".py",
   "mimetype": "text/x-python",
   "name": "python",
   "nbconvert_exporter": "python",
   "pygments_lexer": "ipython3",
   "version": "3.7.3"
  }
 },
 "nbformat": 4,
 "nbformat_minor": 4
}

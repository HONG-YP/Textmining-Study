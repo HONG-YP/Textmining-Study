{
 "cells": [
  {
   "cell_type": "code",
   "execution_count": 1,
   "metadata": {
    "ExecuteTime": {
     "end_time": "2020-07-02T04:56:05.971828Z",
     "start_time": "2020-07-02T04:56:02.355788Z"
    }
   },
   "outputs": [],
   "source": [
    "import pandas as pd\n",
    "import numpy as np\n",
    "from sklearn.feature_extraction.text import CountVectorizer # frequency based DTM\n",
    "from sklearn.feature_extraction.text import TfidfVectorizer # tf-idf based DTM"
   ]
  },
  {
   "cell_type": "code",
   "execution_count": 2,
   "metadata": {
    "ExecuteTime": {
     "end_time": "2020-07-02T04:56:48.646146Z",
     "start_time": "2020-07-02T04:56:48.640163Z"
    }
   },
   "outputs": [],
   "source": [
    "# 단어 수 기준(TF) 벡터화\n",
    "vectorizer = CountVectorizer(min_df = 1, ngram_range = (1,1))"
   ]
  },
  {
   "cell_type": "code",
   "execution_count": 3,
   "metadata": {
    "ExecuteTime": {
     "end_time": "2020-07-02T04:58:52.250620Z",
     "start_time": "2020-07-02T04:58:52.244538Z"
    }
   },
   "outputs": [],
   "source": [
    "# 코퍼스 구축\n",
    "corpus = ['홍브라더스 텍스트마이닝 정말 정말 재미있어요.',\n",
    "          '저도 홍브라더스 텍스트마이닝 재미있는 것 같아요.',\n",
    "          '저는 얼른 밥 먹으러 가고 싶어요.',\n",
    "          '저는 집에 가고 싶어요.']"
   ]
  },
  {
   "cell_type": "code",
   "execution_count": 4,
   "metadata": {
    "ExecuteTime": {
     "end_time": "2020-07-02T04:59:01.267952Z",
     "start_time": "2020-07-02T04:59:01.251772Z"
    }
   },
   "outputs": [
    {
     "name": "stdout",
     "output_type": "stream",
     "text": [
      "  (0, 6)\t1\n",
      "  (0, 9)\t2\n",
      "  (0, 11)\t1\n",
      "  (0, 12)\t1\n",
      "  (1, 1)\t1\n",
      "  (1, 5)\t1\n",
      "  (1, 8)\t1\n",
      "  (1, 11)\t1\n",
      "  (1, 12)\t1\n",
      "  (2, 3)\t1\n",
      "  (2, 0)\t1\n",
      "  (2, 2)\t1\n",
      "  (2, 4)\t1\n",
      "  (2, 7)\t1\n",
      "  (3, 10)\t1\n",
      "  (3, 3)\t1\n",
      "  (3, 0)\t1\n",
      "  (3, 7)\t1\n"
     ]
    }
   ],
   "source": [
    "# feature(여기에서는 단어 기준) 추출\n",
    "features = vectorizer.fit_transform(corpus)\n",
    "print(features)\n",
    "# sparse array"
   ]
  },
  {
   "cell_type": "code",
   "execution_count": 5,
   "metadata": {
    "ExecuteTime": {
     "end_time": "2020-07-02T04:59:16.363921Z",
     "start_time": "2020-07-02T04:59:16.344617Z"
    }
   },
   "outputs": [
    {
     "data": {
      "text/plain": [
       "matrix([[0, 0, 0, 0, 0, 0, 1, 0, 0, 2, 0, 1, 1],\n",
       "        [0, 1, 0, 0, 0, 1, 0, 0, 1, 0, 0, 1, 1],\n",
       "        [1, 0, 1, 1, 1, 0, 0, 1, 0, 0, 0, 0, 0],\n",
       "        [1, 0, 0, 1, 0, 0, 0, 1, 0, 0, 1, 0, 0]], dtype=int64)"
      ]
     },
     "execution_count": 5,
     "metadata": {},
     "output_type": "execute_result"
    }
   ],
   "source": [
    "# dense array로 변환\n",
    "features.todense()"
   ]
  },
  {
   "cell_type": "code",
   "execution_count": 6,
   "metadata": {
    "ExecuteTime": {
     "end_time": "2020-07-02T05:01:36.349155Z",
     "start_time": "2020-07-02T05:01:36.342178Z"
    }
   },
   "outputs": [
    {
     "name": "stdout",
     "output_type": "stream",
     "text": [
      "[[0 0 0 0 0 0 1 0 0 2 0 1 1]\n",
      " [0 1 0 0 0 1 0 0 1 0 0 1 1]\n",
      " [1 0 1 1 1 0 0 1 0 0 0 0 0]\n",
      " [1 0 0 1 0 0 0 1 0 0 1 0 0]]\n"
     ]
    }
   ],
   "source": [
    "# DTM(Document Term Matrix) 만들기\n",
    "dtm_np = np.array(features.todense())\n",
    "print(dtm_np)"
   ]
  },
  {
   "cell_type": "code",
   "execution_count": 7,
   "metadata": {
    "ExecuteTime": {
     "end_time": "2020-07-02T05:04:21.501149Z",
     "start_time": "2020-07-02T05:04:21.494623Z"
    },
    "scrolled": false
   },
   "outputs": [
    {
     "name": "stdout",
     "output_type": "stream",
     "text": [
      "['가고', '같아요', '먹으러', '싶어요', '얼른', '재미있는', '재미있어요', '저는', '저도', '정말', '집에', '텍스트마이닝', '홍브라더스']\n"
     ]
    }
   ],
   "source": [
    "# feature 이름 불러오기\n",
    "feature_names = vectorizer.get_feature_names()\n",
    "print(feature_names)"
   ]
  },
  {
   "cell_type": "code",
   "execution_count": 8,
   "metadata": {
    "ExecuteTime": {
     "end_time": "2020-07-02T05:04:54.662760Z",
     "start_time": "2020-07-02T05:04:54.624930Z"
    }
   },
   "outputs": [
    {
     "data": {
      "text/html": [
       "<div>\n",
       "<style scoped>\n",
       "    .dataframe tbody tr th:only-of-type {\n",
       "        vertical-align: middle;\n",
       "    }\n",
       "\n",
       "    .dataframe tbody tr th {\n",
       "        vertical-align: top;\n",
       "    }\n",
       "\n",
       "    .dataframe thead th {\n",
       "        text-align: right;\n",
       "    }\n",
       "</style>\n",
       "<table border=\"1\" class=\"dataframe\">\n",
       "  <thead>\n",
       "    <tr style=\"text-align: right;\">\n",
       "      <th></th>\n",
       "      <th>가고</th>\n",
       "      <th>같아요</th>\n",
       "      <th>먹으러</th>\n",
       "      <th>싶어요</th>\n",
       "      <th>얼른</th>\n",
       "      <th>재미있는</th>\n",
       "      <th>재미있어요</th>\n",
       "      <th>저는</th>\n",
       "      <th>저도</th>\n",
       "      <th>정말</th>\n",
       "      <th>집에</th>\n",
       "      <th>텍스트마이닝</th>\n",
       "      <th>홍브라더스</th>\n",
       "    </tr>\n",
       "  </thead>\n",
       "  <tbody>\n",
       "    <tr>\n",
       "      <th>0</th>\n",
       "      <td>0</td>\n",
       "      <td>0</td>\n",
       "      <td>0</td>\n",
       "      <td>0</td>\n",
       "      <td>0</td>\n",
       "      <td>0</td>\n",
       "      <td>1</td>\n",
       "      <td>0</td>\n",
       "      <td>0</td>\n",
       "      <td>2</td>\n",
       "      <td>0</td>\n",
       "      <td>1</td>\n",
       "      <td>1</td>\n",
       "    </tr>\n",
       "    <tr>\n",
       "      <th>1</th>\n",
       "      <td>0</td>\n",
       "      <td>1</td>\n",
       "      <td>0</td>\n",
       "      <td>0</td>\n",
       "      <td>0</td>\n",
       "      <td>1</td>\n",
       "      <td>0</td>\n",
       "      <td>0</td>\n",
       "      <td>1</td>\n",
       "      <td>0</td>\n",
       "      <td>0</td>\n",
       "      <td>1</td>\n",
       "      <td>1</td>\n",
       "    </tr>\n",
       "    <tr>\n",
       "      <th>2</th>\n",
       "      <td>1</td>\n",
       "      <td>0</td>\n",
       "      <td>1</td>\n",
       "      <td>1</td>\n",
       "      <td>1</td>\n",
       "      <td>0</td>\n",
       "      <td>0</td>\n",
       "      <td>1</td>\n",
       "      <td>0</td>\n",
       "      <td>0</td>\n",
       "      <td>0</td>\n",
       "      <td>0</td>\n",
       "      <td>0</td>\n",
       "    </tr>\n",
       "    <tr>\n",
       "      <th>3</th>\n",
       "      <td>1</td>\n",
       "      <td>0</td>\n",
       "      <td>0</td>\n",
       "      <td>1</td>\n",
       "      <td>0</td>\n",
       "      <td>0</td>\n",
       "      <td>0</td>\n",
       "      <td>1</td>\n",
       "      <td>0</td>\n",
       "      <td>0</td>\n",
       "      <td>1</td>\n",
       "      <td>0</td>\n",
       "      <td>0</td>\n",
       "    </tr>\n",
       "  </tbody>\n",
       "</table>\n",
       "</div>"
      ],
      "text/plain": [
       "   가고  같아요  먹으러  싶어요  얼른  재미있는  재미있어요  저는  저도  정말  집에  텍스트마이닝  홍브라더스\n",
       "0   0    0    0    0   0     0      1   0   0   2   0       1      1\n",
       "1   0    1    0    0   0     1      0   0   1   0   0       1      1\n",
       "2   1    0    1    1   1     0      0   1   0   0   0       0      0\n",
       "3   1    0    0    1   0     0      0   1   0   0   1       0      0"
      ]
     },
     "execution_count": 8,
     "metadata": {},
     "output_type": "execute_result"
    }
   ],
   "source": [
    "# DataFrame 생성\n",
    "pd.DataFrame(data = dtm_np, columns = feature_names)"
   ]
  },
  {
   "cell_type": "code",
   "execution_count": 9,
   "metadata": {
    "ExecuteTime": {
     "end_time": "2020-02-04T09:39:05.115892Z",
     "start_time": "2020-02-04T09:39:05.109909Z"
    },
    "scrolled": true
   },
   "outputs": [
    {
     "name": "stdout",
     "output_type": "stream",
     "text": [
      "2.8284271247461903\n",
      "3.4641016151377544\n"
     ]
    }
   ],
   "source": [
    "# 유클리다안 유사도 구하기\n",
    "print(np.linalg.norm(dtm_np[1]-dtm_np[0]))\n",
    "print(np.linalg.norm(dtm_np[2]-dtm_np[0]))"
   ]
  },
  {
   "cell_type": "code",
   "execution_count": 10,
   "metadata": {
    "ExecuteTime": {
     "end_time": "2020-07-02T05:11:22.956625Z",
     "start_time": "2020-07-02T05:11:22.932536Z"
    }
   },
   "outputs": [
    {
     "name": "stdout",
     "output_type": "stream",
     "text": [
      "0 0 >> 0.0\n",
      "0 1 >> 2.8284271247461903\n",
      "0 2 >> 3.4641016151377544\n",
      "0 3 >> 3.3166247903554\n",
      "1 0 >> 2.8284271247461903\n",
      "1 1 >> 0.0\n",
      "1 2 >> 3.1622776601683795\n",
      "1 3 >> 3.0\n",
      "2 0 >> 3.4641016151377544\n",
      "2 1 >> 3.1622776601683795\n",
      "2 2 >> 0.0\n",
      "2 3 >> 1.7320508075688772\n",
      "3 0 >> 3.3166247903554\n",
      "3 1 >> 3.0\n",
      "3 2 >> 1.7320508075688772\n",
      "3 3 >> 0.0\n"
     ]
    }
   ],
   "source": [
    "# 모든 유클리디안 거리 유사도 구하기\n",
    "euclidian_distance_similarity = []\n",
    "for k in range(4):\n",
    "    for i in range(4):\n",
    "        euclidian_distance = np.linalg.norm(dtm_np[k]-dtm_np[i])\n",
    "        euclidian_distance_similarity.append(euclidian_distance)\n",
    "        print(k, i, \">>\", euclidian_distance)"
   ]
  },
  {
   "cell_type": "code",
   "execution_count": 11,
   "metadata": {
    "ExecuteTime": {
     "end_time": "2020-07-02T05:11:51.251475Z",
     "start_time": "2020-07-02T05:11:51.240990Z"
    }
   },
   "outputs": [
    {
     "data": {
      "text/plain": [
       "array([[0.        , 2.82842712, 3.46410162, 3.31662479],\n",
       "       [2.82842712, 0.        , 3.16227766, 3.        ],\n",
       "       [3.46410162, 3.16227766, 0.        , 1.73205081],\n",
       "       [3.31662479, 3.        , 1.73205081, 0.        ]])"
      ]
     },
     "execution_count": 11,
     "metadata": {},
     "output_type": "execute_result"
    }
   ],
   "source": [
    "# 유클리디안 거리 유사도 4X4 행렬로 변환\n",
    "ud_np = np.array(euclidian_distance_similarity); ud_np\n",
    "ud_np.reshape([4,4])"
   ]
  },
  {
   "cell_type": "code",
   "execution_count": 12,
   "metadata": {
    "ExecuteTime": {
     "end_time": "2020-07-02T05:11:59.190530Z",
     "start_time": "2020-07-02T05:11:58.084501Z"
    }
   },
   "outputs": [],
   "source": [
    "import matplotlib.pyplot as plt\n",
    "import seaborn as sns"
   ]
  },
  {
   "cell_type": "code",
   "execution_count": 13,
   "metadata": {
    "ExecuteTime": {
     "end_time": "2020-07-02T05:12:00.517214Z",
     "start_time": "2020-07-02T05:12:00.508660Z"
    }
   },
   "outputs": [],
   "source": [
    "%matplotlib inline"
   ]
  },
  {
   "cell_type": "code",
   "execution_count": 14,
   "metadata": {
    "ExecuteTime": {
     "end_time": "2020-07-02T05:12:11.295265Z",
     "start_time": "2020-07-02T05:12:10.802449Z"
    }
   },
   "outputs": [
    {
     "data": {
      "text/plain": [
       "<matplotlib.axes._subplots.AxesSubplot at 0x268a42bb908>"
      ]
     },
     "execution_count": 14,
     "metadata": {},
     "output_type": "execute_result"
    },
    {
     "data": {
      "image/png": "[encoded data removed]",
      "text/plain": [
       "<Figure size 432x288 with 2 Axes>"
      ]
     },
     "metadata": {
      "needs_background": "light"
     },
     "output_type": "display_data"
    }
   ],
   "source": [
    "# 히트맵 시각화\n",
    "# sns.set(rc={'figure.figsize':(10,10)}) 사진 크기\n",
    "sns.heatmap(data = ud_np.reshape([4,4]),annot = True, fmt = '.2f', linewidths=.5, cmap = 'summer')"
   ]
  },
  {
   "cell_type": "code",
   "execution_count": 15,
   "metadata": {
    "ExecuteTime": {
     "end_time": "2020-07-02T05:13:44.037981Z",
     "start_time": "2020-07-02T05:13:44.026050Z"
    }
   },
   "outputs": [
    {
     "name": "stdout",
     "output_type": "stream",
     "text": [
      "0 0 >> 0.9999999999999999\n",
      "0 1 >> 0.33806170189140655\n",
      "0 2 >> 0.0\n",
      "0 3 >> 0.0\n",
      "1 0 >> 0.33806170189140655\n",
      "1 1 >> 0.9999999999999998\n",
      "1 2 >> 0.0\n",
      "1 3 >> 0.0\n",
      "2 0 >> 0.0\n",
      "2 1 >> 0.0\n",
      "2 2 >> 0.9999999999999998\n",
      "2 3 >> 0.6708203932499369\n",
      "3 0 >> 0.0\n",
      "3 1 >> 0.0\n",
      "3 2 >> 0.6708203932499369\n",
      "3 3 >> 1.0\n"
     ]
    }
   ],
   "source": [
    "# 모든 코사인 유사도 구하기\n",
    "cosine_similarity = []\n",
    "for k in range(4):\n",
    "    for i in range(4):\n",
    "        cosine = np.dot(dtm_np[k],dtm_np[i])/(np.linalg.norm(dtm_np[k])*np.linalg.norm(dtm_np[i]))\n",
    "        cosine_similarity.append(cosine)\n",
    "        print(k, i, \">>\",cosine)"
   ]
  },
  {
   "cell_type": "code",
   "execution_count": 16,
   "metadata": {
    "ExecuteTime": {
     "end_time": "2020-07-02T05:13:47.001196Z",
     "start_time": "2020-07-02T05:13:46.990519Z"
    }
   },
   "outputs": [
    {
     "data": {
      "text/plain": [
       "array([[1.        , 0.3380617 , 0.        , 0.        ],\n",
       "       [0.3380617 , 1.        , 0.        , 0.        ],\n",
       "       [0.        , 0.        , 1.        , 0.67082039],\n",
       "       [0.        , 0.        , 0.67082039, 1.        ]])"
      ]
     },
     "execution_count": 16,
     "metadata": {},
     "output_type": "execute_result"
    }
   ],
   "source": [
    "# 코사인 유사도 4X4 행렬 구하기\n",
    "cs_np = np.array(cosine_similarity)\n",
    "cs_np.reshape(4,4)"
   ]
  },
  {
   "cell_type": "code",
   "execution_count": 17,
   "metadata": {
    "ExecuteTime": {
     "end_time": "2020-07-02T05:15:47.520158Z",
     "start_time": "2020-07-02T05:15:47.133246Z"
    }
   },
   "outputs": [
    {
     "data": {
      "text/plain": [
       "<matplotlib.axes._subplots.AxesSubplot at 0x268a560f358>"
      ]
     },
     "execution_count": 17,
     "metadata": {},
     "output_type": "execute_result"
    },
    {
     "data": {
      "image/png": "[encoded data removed]",
      "text/plain": [
       "<Figure size 432x288 with 2 Axes>"
      ]
     },
     "metadata": {
      "needs_background": "light"
     },
     "output_type": "display_data"
    }
   ],
   "source": [
    "# 히트맵 시각화\n",
    "sns.heatmap(data = cs_np.reshape(4,4), annot = True, fmt = '.2f', linewidths=.5)"
   ]
  },
  {
   "cell_type": "code",
   "execution_count": 18,
   "metadata": {
    "ExecuteTime": {
     "end_time": "2020-07-02T05:21:01.349830Z",
     "start_time": "2020-07-02T05:21:01.324614Z"
    }
   },
   "outputs": [],
   "source": [
    "# TFIDF 벡터화\n",
    "vectorizer = TfidfVectorizer(min_df=1, ngram_range=(1,1))\n",
    "features = vectorizer.fit_transform(corpus)"
   ]
  },
  {
   "cell_type": "code",
   "execution_count": 19,
   "metadata": {
    "ExecuteTime": {
     "end_time": "2020-07-02T05:21:02.779690Z",
     "start_time": "2020-07-02T05:21:02.773677Z"
    }
   },
   "outputs": [],
   "source": [
    "# feature 이름 불러 오기\n",
    "feature_names = vectorizer.get_feature_names()"
   ]
  },
  {
   "cell_type": "code",
   "execution_count": 20,
   "metadata": {
    "ExecuteTime": {
     "end_time": "2020-07-02T05:21:03.582799Z",
     "start_time": "2020-07-02T05:21:03.564385Z"
    }
   },
   "outputs": [
    {
     "data": {
      "text/plain": [
       "matrix([[0.        , 0.        , 0.        , 0.        , 0.        ,\n",
       "         0.        , 0.40021825, 0.        , 0.        , 0.8004365 ,\n",
       "         0.        , 0.31553666, 0.31553666],\n",
       "        [0.        , 0.48546061, 0.        , 0.        , 0.        ,\n",
       "         0.48546061, 0.        , 0.        , 0.48546061, 0.        ,\n",
       "         0.        , 0.38274272, 0.38274272],\n",
       "        [0.40104275, 0.        , 0.50867187, 0.40104275, 0.50867187,\n",
       "         0.        , 0.        , 0.40104275, 0.        , 0.        ,\n",
       "         0.        , 0.        , 0.        ],\n",
       "        [0.46580855, 0.        , 0.        , 0.46580855, 0.        ,\n",
       "         0.        , 0.        , 0.46580855, 0.        , 0.        ,\n",
       "         0.59081908, 0.        , 0.        ]])"
      ]
     },
     "execution_count": 20,
     "metadata": {},
     "output_type": "execute_result"
    }
   ],
   "source": [
    "# dense array로 변환\n",
    "features.todense()"
   ]
  },
  {
   "cell_type": "code",
   "execution_count": 21,
   "metadata": {
    "ExecuteTime": {
     "end_time": "2020-07-02T05:21:07.089465Z",
     "start_time": "2020-07-02T05:21:07.083442Z"
    }
   },
   "outputs": [],
   "source": [
    "# DTM 생성\n",
    "dtm_np = np.array(features.todense())"
   ]
  },
  {
   "cell_type": "code",
   "execution_count": 22,
   "metadata": {
    "ExecuteTime": {
     "end_time": "2020-07-02T05:21:09.933724Z",
     "start_time": "2020-07-02T05:21:09.900852Z"
    }
   },
   "outputs": [
    {
     "data": {
      "text/html": [
       "<div>\n",
       "<style scoped>\n",
       "    .dataframe tbody tr th:only-of-type {\n",
       "        vertical-align: middle;\n",
       "    }\n",
       "\n",
       "    .dataframe tbody tr th {\n",
       "        vertical-align: top;\n",
       "    }\n",
       "\n",
       "    .dataframe thead th {\n",
       "        text-align: right;\n",
       "    }\n",
       "</style>\n",
       "<table border=\"1\" class=\"dataframe\">\n",
       "  <thead>\n",
       "    <tr style=\"text-align: right;\">\n",
       "      <th></th>\n",
       "      <th>가고</th>\n",
       "      <th>같아요</th>\n",
       "      <th>먹으러</th>\n",
       "      <th>싶어요</th>\n",
       "      <th>얼른</th>\n",
       "      <th>재미있는</th>\n",
       "      <th>재미있어요</th>\n",
       "      <th>저는</th>\n",
       "      <th>저도</th>\n",
       "      <th>정말</th>\n",
       "      <th>집에</th>\n",
       "      <th>텍스트마이닝</th>\n",
       "      <th>홍브라더스</th>\n",
       "    </tr>\n",
       "  </thead>\n",
       "  <tbody>\n",
       "    <tr>\n",
       "      <th>0</th>\n",
       "      <td>0.000000</td>\n",
       "      <td>0.000000</td>\n",
       "      <td>0.000000</td>\n",
       "      <td>0.000000</td>\n",
       "      <td>0.000000</td>\n",
       "      <td>0.000000</td>\n",
       "      <td>0.400218</td>\n",
       "      <td>0.000000</td>\n",
       "      <td>0.000000</td>\n",
       "      <td>0.800436</td>\n",
       "      <td>0.000000</td>\n",
       "      <td>0.315537</td>\n",
       "      <td>0.315537</td>\n",
       "    </tr>\n",
       "    <tr>\n",
       "      <th>1</th>\n",
       "      <td>0.000000</td>\n",
       "      <td>0.485461</td>\n",
       "      <td>0.000000</td>\n",
       "      <td>0.000000</td>\n",
       "      <td>0.000000</td>\n",
       "      <td>0.485461</td>\n",
       "      <td>0.000000</td>\n",
       "      <td>0.000000</td>\n",
       "      <td>0.485461</td>\n",
       "      <td>0.000000</td>\n",
       "      <td>0.000000</td>\n",
       "      <td>0.382743</td>\n",
       "      <td>0.382743</td>\n",
       "    </tr>\n",
       "    <tr>\n",
       "      <th>2</th>\n",
       "      <td>0.401043</td>\n",
       "      <td>0.000000</td>\n",
       "      <td>0.508672</td>\n",
       "      <td>0.401043</td>\n",
       "      <td>0.508672</td>\n",
       "      <td>0.000000</td>\n",
       "      <td>0.000000</td>\n",
       "      <td>0.401043</td>\n",
       "      <td>0.000000</td>\n",
       "      <td>0.000000</td>\n",
       "      <td>0.000000</td>\n",
       "      <td>0.000000</td>\n",
       "      <td>0.000000</td>\n",
       "    </tr>\n",
       "    <tr>\n",
       "      <th>3</th>\n",
       "      <td>0.465809</td>\n",
       "      <td>0.000000</td>\n",
       "      <td>0.000000</td>\n",
       "      <td>0.465809</td>\n",
       "      <td>0.000000</td>\n",
       "      <td>0.000000</td>\n",
       "      <td>0.000000</td>\n",
       "      <td>0.465809</td>\n",
       "      <td>0.000000</td>\n",
       "      <td>0.000000</td>\n",
       "      <td>0.590819</td>\n",
       "      <td>0.000000</td>\n",
       "      <td>0.000000</td>\n",
       "    </tr>\n",
       "  </tbody>\n",
       "</table>\n",
       "</div>"
      ],
      "text/plain": [
       "         가고       같아요       먹으러       싶어요        얼른      재미있는     재미있어요  \\\n",
       "0  0.000000  0.000000  0.000000  0.000000  0.000000  0.000000  0.400218   \n",
       "1  0.000000  0.485461  0.000000  0.000000  0.000000  0.485461  0.000000   \n",
       "2  0.401043  0.000000  0.508672  0.401043  0.508672  0.000000  0.000000   \n",
       "3  0.465809  0.000000  0.000000  0.465809  0.000000  0.000000  0.000000   \n",
       "\n",
       "         저는        저도        정말        집에    텍스트마이닝     홍브라더스  \n",
       "0  0.000000  0.000000  0.800436  0.000000  0.315537  0.315537  \n",
       "1  0.000000  0.485461  0.000000  0.000000  0.382743  0.382743  \n",
       "2  0.401043  0.000000  0.000000  0.000000  0.000000  0.000000  \n",
       "3  0.465809  0.000000  0.000000  0.590819  0.000000  0.000000  "
      ]
     },
     "execution_count": 22,
     "metadata": {},
     "output_type": "execute_result"
    }
   ],
   "source": [
    "# DataFrame 생성\n",
    "pd.DataFrame(data = dtm_np, columns = feature_names)"
   ]
  },
  {
   "cell_type": "code",
   "execution_count": 23,
   "metadata": {
    "ExecuteTime": {
     "end_time": "2020-07-02T05:26:26.376866Z",
     "start_time": "2020-07-02T05:26:26.365942Z"
    }
   },
   "outputs": [
    {
     "name": "stdout",
     "output_type": "stream",
     "text": [
      "0 0 >> 0.0\n",
      "0 1 >> 1.2316340990185821\n",
      "0 2 >> 1.414213562373095\n",
      "0 3 >> 1.4142135623730951\n",
      "1 0 >> 1.2316340990185821\n",
      "1 1 >> 0.0\n",
      "1 2 >> 1.414213562373095\n",
      "1 3 >> 1.4142135623730951\n",
      "2 0 >> 1.414213562373095\n",
      "2 1 >> 1.414213562373095\n",
      "2 2 >> 0.0\n",
      "2 3 >> 0.9376274101106029\n",
      "3 0 >> 1.4142135623730951\n",
      "3 1 >> 1.4142135623730951\n",
      "3 2 >> 0.9376274101106029\n",
      "3 3 >> 0.0\n"
     ]
    }
   ],
   "source": [
    "# 모든 유클리디안 거리 유사도 구하기\n",
    "euclidian_distance_similarity = []\n",
    "for k in range(4):\n",
    "    for i in range(4):\n",
    "        euclidian_distance = np.linalg.norm(dtm_np[k]-dtm_np[i])\n",
    "        euclidian_distance_similarity.append(euclidian_distance)\n",
    "        print(k, i, \">>\", euclidian_distance)"
   ]
  },
  {
   "cell_type": "code",
   "execution_count": 24,
   "metadata": {
    "ExecuteTime": {
     "end_time": "2020-07-02T05:27:57.597948Z",
     "start_time": "2020-07-02T05:27:57.192521Z"
    }
   },
   "outputs": [
    {
     "data": {
      "text/plain": [
       "<matplotlib.axes._subplots.AxesSubplot at 0x268a56c1860>"
      ]
     },
     "execution_count": 24,
     "metadata": {},
     "output_type": "execute_result"
    },
    {
     "data": {
      "image/png": "[encoded data removed]",
      "text/plain": [
       "<Figure size 432x288 with 2 Axes>"
      ]
     },
     "metadata": {
      "needs_background": "light"
     },
     "output_type": "display_data"
    }
   ],
   "source": [
    "# 히트맵 시각화\n",
    "ud_np = np.array(euclidian_distance_similarity)\n",
    "ud_np.reshape([4,4])\n",
    "sns.heatmap(data = ud_np.reshape([4,4]),annot = True, fmt = '.2f', linewidths=.5, cmap = 'summer')"
   ]
  },
  {
   "cell_type": "code",
   "execution_count": 25,
   "metadata": {
    "ExecuteTime": {
     "end_time": "2020-07-02T05:28:04.036915Z",
     "start_time": "2020-07-02T05:28:04.027934Z"
    }
   },
   "outputs": [
    {
     "name": "stdout",
     "output_type": "stream",
     "text": [
      "0.24153872306734275\n"
     ]
    }
   ],
   "source": [
    "# 코사인 유사도 구하기\n",
    "print(np.dot(dtm_np[0],dtm_np[1])/(np.linalg.norm(dtm_np[0])*np.linalg.norm(dtm_np[1])))"
   ]
  },
  {
   "cell_type": "code",
   "execution_count": 26,
   "metadata": {
    "ExecuteTime": {
     "end_time": "2020-07-02T05:28:05.600884Z",
     "start_time": "2020-07-02T05:28:05.585736Z"
    }
   },
   "outputs": [
    {
     "name": "stdout",
     "output_type": "stream",
     "text": [
      "0 0 >> 1.0000000000000002\n",
      "0 1 >> 0.24153872306734275\n",
      "0 2 >> 0.0\n",
      "0 3 >> 0.0\n",
      "1 0 >> 0.24153872306734275\n",
      "1 1 >> 1.0\n",
      "1 2 >> 0.0\n",
      "1 3 >> 0.0\n",
      "2 0 >> 0.0\n",
      "2 1 >> 0.0\n",
      "2 2 >> 1.0\n",
      "2 3 >> 0.5604274199046415\n",
      "3 0 >> 0.0\n",
      "3 1 >> 0.0\n",
      "3 2 >> 0.5604274199046415\n",
      "3 3 >> 1.0000000000000002\n"
     ]
    }
   ],
   "source": [
    "# 모든 코사인 유사도 구하기\n",
    "cosine_similarity = []\n",
    "for k in range(4):\n",
    "    for i in range(4):\n",
    "        cosine = np.dot(dtm_np[k],dtm_np[i])/(np.linalg.norm(dtm_np[k])*np.linalg.norm(dtm_np[i]))\n",
    "        cosine_similarity.append(cosine)\n",
    "        print(k, i, \">>\",cosine)"
   ]
  },
  {
   "cell_type": "code",
   "execution_count": 27,
   "metadata": {
    "ExecuteTime": {
     "end_time": "2020-07-02T05:28:08.888352Z",
     "start_time": "2020-07-02T05:28:08.879312Z"
    }
   },
   "outputs": [
    {
     "data": {
      "text/plain": [
       "array([[1.        , 0.24153872, 0.        , 0.        ],\n",
       "       [0.24153872, 1.        , 0.        , 0.        ],\n",
       "       [0.        , 0.        , 1.        , 0.56042742],\n",
       "       [0.        , 0.        , 0.56042742, 1.        ]])"
      ]
     },
     "execution_count": 27,
     "metadata": {},
     "output_type": "execute_result"
    }
   ],
   "source": [
    "# 코사인 유사도 4X4 행렬 구하기\n",
    "cs_np = np.array(cosine_similarity)\n",
    "cs_np.reshape(4,4)"
   ]
  },
  {
   "cell_type": "code",
   "execution_count": 28,
   "metadata": {
    "ExecuteTime": {
     "end_time": "2020-07-02T05:28:14.246318Z",
     "start_time": "2020-07-02T05:28:13.855186Z"
    }
   },
   "outputs": [
    {
     "data": {
      "text/plain": [
       "<matplotlib.axes._subplots.AxesSubplot at 0x268a57615c0>"
      ]
     },
     "execution_count": 28,
     "metadata": {},
     "output_type": "execute_result"
    },
    {
     "data": {
      "image/png": "[encoded data removed]",
      "text/plain": [
       "<Figure size 432x288 with 2 Axes>"
      ]
     },
     "metadata": {
      "needs_background": "light"
     },
     "output_type": "display_data"
    }
   ],
   "source": [
    "# 히트맵 시각화\n",
    "sns.heatmap(data = cs_np.reshape(4,4), annot = True, fmt = '.2f', linewidths=.5)"
   ]
  },
  {
   "cell_type": "code",
   "execution_count": null,
   "metadata": {},
   "outputs": [],
   "source": []
  }
 ],
 "metadata": {
  "kernelspec": {
   "display_name": "Python 3",
   "language": "python",
   "name": "python3"
  },
  "language_info": {
   "codemirror_mode": {
    "name": "ipython",
    "version": 3
   },
   "file_extension": ".py",
   "mimetype": "text/x-python",
   "name": "python",
   "nbconvert_exporter": "python",
   "pygments_lexer": "ipython3",
   "version": "3.7.3"
  }
 },
 "nbformat": 4,
 "nbformat_minor": 2
}

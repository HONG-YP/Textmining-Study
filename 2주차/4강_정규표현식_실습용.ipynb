{
 "cells": [
  {
   "cell_type": "markdown",
   "metadata": {},
   "source": [
    "정규표현식\n",
    "=====\n",
    "정규표현식 기본 문법\n",
    "-----\n",
    "이번 시간에는 정규표현식을 알아보도록 하겠습니다.<br>\n",
    "텍스트 정보를 탐색하는 데 있어 정규표현식은 아주 유용할 것입니다.<br>\n",
    "물론 저도 아직 제대로 활용할 줄 모르지만, 추후에 배울 내용에 요긴하게 쓰일 것입니다.<br>\n",
    "정규표현식 모듈은 `import re`를 통해 불러올 수 있습니다.<br>\n",
    "<br>\n",
    "참고: 점프 투 파이썬 정규표현식 https://wikidocs.net/1669"
   ]
  },
  {
   "cell_type": "code",
   "execution_count": 5,
   "metadata": {
    "ExecuteTime": {
     "end_time": "2020-01-19T08:23:43.224893Z",
     "start_time": "2020-01-19T08:23:43.220392Z"
    }
   },
   "outputs": [],
   "source": [
    "# 정규표현식 모듈 불러오기\n",
    "import re"
   ]
  },
  {
   "cell_type": "markdown",
   "metadata": {},
   "source": [
    "문자열 검색\n",
    "-----\n",
    "정규표현식은 여러 가지로 활용될 수 있습니다.<br>\n",
    "우선 어떻게 활용될 수 있을지, re에서 제공하는 method를 통해 살펴봅시다.<br>\n",
    "- match\n",
    "- search\n",
    "- findall"
   ]
  },
  {
   "cell_type": "code",
   "execution_count": 63,
   "metadata": {
    "ExecuteTime": {
     "end_time": "2020-01-19T08:23:44.063887Z",
     "start_time": "2020-01-19T08:23:44.047948Z"
    },
    "scrolled": true
   },
   "outputs": [],
   "source": [
    "# 포함하는 문자 찾기 (match)\n"
   ]
  },
  {
   "cell_type": "code",
   "execution_count": 60,
   "metadata": {
    "ExecuteTime": {
     "end_time": "2020-01-19T08:23:44.739789Z",
     "start_time": "2020-01-19T08:23:44.733771Z"
    }
   },
   "outputs": [],
   "source": [
    "# 포함하지 않는 경우 (match)\n"
   ]
  },
  {
   "cell_type": "code",
   "execution_count": 62,
   "metadata": {
    "ExecuteTime": {
     "end_time": "2020-01-19T08:23:45.119157Z",
     "start_time": "2020-01-19T08:23:45.110999Z"
    }
   },
   "outputs": [],
   "source": [
    "# 포함하는 문자 찾기 (search)\n"
   ]
  },
  {
   "cell_type": "code",
   "execution_count": 4,
   "metadata": {
    "ExecuteTime": {
     "end_time": "2020-01-19T08:23:45.375144Z",
     "start_time": "2020-01-19T08:23:45.369487Z"
    }
   },
   "outputs": [],
   "source": [
    "# 포함하지 않는 경우 (search)\n"
   ]
  },
  {
   "cell_type": "code",
   "execution_count": 6,
   "metadata": {
    "ExecuteTime": {
     "end_time": "2020-01-19T08:23:45.585409Z",
     "start_time": "2020-01-19T08:23:45.580427Z"
    }
   },
   "outputs": [
    {
     "name": "stdout",
     "output_type": "stream",
     "text": [
      "None\n",
      "<re.Match object; span=(5, 7), match='한다'>\n"
     ]
    }
   ],
   "source": [
    "# match와 search는 같은가? match는 맨 앞에 일치하는 문자가 있는 경우, search는 그렇지 않은 경우에도 반환\n",
    "print(re.match(\"한다\", \"나는 생각한다 고로 존재한다.\"))\n",
    "print(re.search(\"한다\", \"나는 생각한다 고로 존재한다.\"))"
   ]
  },
  {
   "cell_type": "code",
   "execution_count": 7,
   "metadata": {
    "ExecuteTime": {
     "end_time": "2020-01-19T08:23:45.849971Z",
     "start_time": "2020-01-19T08:23:45.840912Z"
    }
   },
   "outputs": [
    {
     "name": "stdout",
     "output_type": "stream",
     "text": [
      "<re.Match object; span=(5, 7), match='한다'>\n"
     ]
    }
   ],
   "source": [
    "# search의 한계점\n",
    "print(re.search(\"한다\", \"나는 생각한다 고로 존재한다.\"))\n",
    "\n",
    "#한다가 두개 있는데 하나만 가져온다. 한계점"
   ]
  },
  {
   "cell_type": "code",
   "execution_count": 64,
   "metadata": {
    "ExecuteTime": {
     "end_time": "2020-01-19T08:23:46.087944Z",
     "start_time": "2020-01-19T08:23:46.080924Z"
    }
   },
   "outputs": [
    {
     "data": {
      "text/plain": [
       "['한다', '한다']"
      ]
     },
     "execution_count": 64,
     "metadata": {},
     "output_type": "execute_result"
    }
   ],
   "source": [
    "# 포함하는 문자 모두 찾기 (findall)\n",
    "re.findall(\"한다\", \"나는 생각한다 고로 존재한다.\")"
   ]
  },
  {
   "cell_type": "code",
   "execution_count": 66,
   "metadata": {
    "ExecuteTime": {
     "end_time": "2020-01-19T08:23:46.314131Z",
     "start_time": "2020-01-19T08:23:46.307902Z"
    }
   },
   "outputs": [
    {
     "data": {
      "text/plain": [
       "'한다'"
      ]
     },
     "execution_count": 66,
     "metadata": {},
     "output_type": "execute_result"
    }
   ],
   "source": [
    "# 포함하는 문자 모두 찾기 (findall)_인덱싱 가능함\n",
    "re.findall(\"한다\", \"나는 생각한다 고로 존재한다.\")[1]"
   ]
  },
  {
   "cell_type": "code",
   "execution_count": 10,
   "metadata": {
    "ExecuteTime": {
     "end_time": "2020-01-19T10:12:35.991648Z",
     "start_time": "2020-01-19T10:12:35.985883Z"
    }
   },
   "outputs": [],
   "source": [
    "# 영탁의 노래 <찐이야>에는 '찐'가 몇 번 등장할까?\n",
    "찐이야 = '''찐 찐 찐 찐 찐이야 완전 찐이야\n",
    "진짜가 나타났다 지금\n",
    "찐 찐 찐 찐 찐이야 완전 찐이야\n",
    "찐하게 사랑할 거야\n",
    "요즘 같이 가짜가 많은 세상에\n",
    "믿을 사람 바로 당신 뿐\n",
    "내 모든 걸 다 줘도 아깝지 않은\n",
    "내 인생에 전부인 사람\n",
    "끌리네 끌리네 자꾸 끌리네\n",
    "쏠리네 쏠리네 자꾸 쏠리네\n",
    "심장을 훔쳐간 사람\n",
    "찐 찐 찐 찐 찐이야 완전 찐이야\n",
    "진짜가 나타났다 지금\n",
    "찐 찐 찐 찐 찐이야 완전 찐이야\n",
    "찐하게 사랑할 거야\n",
    "\n",
    "찐이야~\n",
    "요즘 같이 가짜가 많은 세상에\n",
    "믿을 사람 바로 당신 뿐\n",
    "내 모든 걸 다 줘도 아깝지 않은\n",
    "내 인생에 전부인 사람\n",
    "끌리네 끌리네 자꾸 끌리네\n",
    "쏠리네 쏠리네 자꾸 쏠리네\n",
    "심장을 훔쳐간 사람\n",
    "찐 찐 찐 찐 찐이야 완전 찐이야\n",
    "진짜가 나타났다 지금\n",
    "찐 찐 찐 찐 찐이야 완전 찐이야\n",
    "찐하게 사랑할 거야\n",
    "찐하게 찐하게 찐하게 찐하게\n",
    "찐 찐 찐 찐 찐이야 완전 찐이야\n",
    "진짜가 나타났다 지금\n",
    "찐 찐 찐 찐 찐이야 완전 찐이야\n",
    "찐하게 사랑할 거야\n",
    "찐하게 찐하게 찐하게 찐하게\n",
    "사랑할 거야'''  # 출처: vibe"
   ]
  },
  {
   "cell_type": "code",
   "execution_count": 67,
   "metadata": {
    "ExecuteTime": {
     "end_time": "2020-01-19T08:45:02.833168Z",
     "start_time": "2020-01-19T08:45:02.827183Z"
    },
    "scrolled": true
   },
   "outputs": [
    {
     "data": {
      "text/plain": [
       "61"
      ]
     },
     "execution_count": 67,
     "metadata": {},
     "output_type": "execute_result"
    }
   ],
   "source": [
    "# 영탁의 노래 <찐이야>에는 '찐'가 몇 번 등장할까?\n",
    "# 여기에는 '찐이야, 찐하게'의 '찐'도 포함된 것.\n",
    "\n",
    "len(re.findall(\"찐\", 찐이야))"
   ]
  },
  {
   "cell_type": "markdown",
   "metadata": {},
   "source": [
    "메타문자\n",
    "-----\n",
    "지난 시간에 간단하게 언급했던 것 같은데요, 메타문자는 '메타'라는 어근에서 할 수 있듯이 '문자 그 이상의 역할을 하는 문자'라고 생각하면 됩니다.<br>\n",
    "메타문자들을 활용하면 정규표현식의 활용법이 아주 다양해집니다.<br>\n",
    "[] . ^ \\ + ? | 등 다양하게 있는데 차근차근 살펴보겠습니다. "
   ]
  },
  {
   "cell_type": "markdown",
   "metadata": {
    "ExecuteTime": {
     "end_time": "2020-01-14T19:11:31.225381Z",
     "start_time": "2020-01-14T19:11:31.221358Z"
    }
   },
   "source": [
    "[] 기호\n",
    "-----\n",
    "이 기호는 []안에 있는 낱글자들이 텍스트에 포함되어 있는지 찾아줍니다."
   ]
  },
  {
   "cell_type": "code",
   "execution_count": 68,
   "metadata": {
    "ExecuteTime": {
     "end_time": "2020-01-19T08:23:48.213200Z",
     "start_time": "2020-01-19T08:23:48.205403Z"
    }
   },
   "outputs": [
    {
     "data": {
      "text/plain": [
       "['대', '한']"
      ]
     },
     "execution_count": 68,
     "metadata": {},
     "output_type": "execute_result"
    }
   ],
   "source": [
    "# [] 활용\n",
    "re.findall(\"[대한]\", \"대한민국\")"
   ]
  },
  {
   "cell_type": "code",
   "execution_count": 73,
   "metadata": {
    "ExecuteTime": {
     "end_time": "2020-01-19T08:23:48.431480Z",
     "start_time": "2020-01-19T08:23:48.423460Z"
    }
   },
   "outputs": [
    {
     "data": {
      "text/plain": [
       "['대', '민', '국']"
      ]
     },
     "execution_count": 73,
     "metadata": {},
     "output_type": "execute_result"
    }
   ],
   "source": [
    "# []에 하이폰('-') 활용 (1) \n",
    "re.findall(\"[가-하]\", \"대한민국\")"
   ]
  },
  {
   "cell_type": "code",
   "execution_count": 14,
   "metadata": {
    "ExecuteTime": {
     "end_time": "2020-01-19T08:23:48.715749Z",
     "start_time": "2020-01-19T08:23:48.703164Z"
    }
   },
   "outputs": [],
   "source": [
    "## []에 하이폰('-') 활용 (2)\n"
   ]
  },
  {
   "cell_type": "code",
   "execution_count": 77,
   "metadata": {},
   "outputs": [
    {
     "data": {
      "text/plain": [
       "['텍',\n",
       " '스',\n",
       " '트',\n",
       " '마',\n",
       " '이',\n",
       " '닝',\n",
       " '정',\n",
       " '말',\n",
       " '재',\n",
       " '밌',\n",
       " '어',\n",
       " '요',\n",
       " 'ㅎ',\n",
       " 'ㅏ',\n",
       " 'ㅎ',\n",
       " 'ㅏ',\n",
       " 'ㅎ',\n",
       " 'ㅏ',\n",
       " '핳']"
      ]
     },
     "execution_count": 77,
     "metadata": {},
     "output_type": "execute_result"
    }
   ],
   "source": [
    "## []에 하이폰('-') 활용 (3)\n",
    "text = \"텍스트마이닝 정말 재밌어요.ㅎㅏㅎㅏㅎㅏ핳\"\n",
    "re.findall(\"[ㄱ-ㅎㅏ-ㅣ가-힣]\", text)"
   ]
  },
  {
   "cell_type": "code",
   "execution_count": 78,
   "metadata": {
    "ExecuteTime": {
     "end_time": "2020-01-19T08:23:49.150334Z",
     "start_time": "2020-01-19T08:23:49.142946Z"
    }
   },
   "outputs": [
    {
     "data": {
      "text/plain": [
       "['I', 'B', 'O', 'A', 'Z']"
      ]
     },
     "execution_count": 78,
     "metadata": {},
     "output_type": "execute_result"
    }
   ],
   "source": [
    "# 영어 텍스트 [] 활용 (1) (대문자만)\n",
    "eng_text = 'I love BOAZ'\n",
    "re.findall(\"[A-Z]\", eng_text)"
   ]
  },
  {
   "cell_type": "code",
   "execution_count": 79,
   "metadata": {
    "ExecuteTime": {
     "end_time": "2020-01-19T08:23:49.388904Z",
     "start_time": "2020-01-19T08:23:49.381670Z"
    }
   },
   "outputs": [
    {
     "data": {
      "text/plain": [
       "['l', 'o', 'v', 'e']"
      ]
     },
     "execution_count": 79,
     "metadata": {},
     "output_type": "execute_result"
    }
   ],
   "source": [
    "# 영어 텍스트 [] 활용 (2) (소문자만)\n",
    "re.findall(\"[a-z]\", eng_text)"
   ]
  },
  {
   "cell_type": "code",
   "execution_count": 81,
   "metadata": {
    "ExecuteTime": {
     "end_time": "2020-01-19T08:23:49.618464Z",
     "start_time": "2020-01-19T08:23:49.607915Z"
    }
   },
   "outputs": [
    {
     "data": {
      "text/plain": [
       "['I', 'l', 'o', 'v', 'e', 'B', 'O', 'A', 'Z']"
      ]
     },
     "execution_count": 81,
     "metadata": {},
     "output_type": "execute_result"
    }
   ],
   "source": [
    "# 영어 텍스트 [] 활용 (3) (모든 알파벳)\n",
    "re.findall(\"[a-zA-Z]\", eng_text)"
   ]
  },
  {
   "cell_type": "code",
   "execution_count": 82,
   "metadata": {
    "ExecuteTime": {
     "end_time": "2020-01-19T08:23:49.843998Z",
     "start_time": "2020-01-19T08:23:49.835844Z"
    }
   },
   "outputs": [
    {
     "data": {
      "text/plain": [
       "['0', '0']"
      ]
     },
     "execution_count": 82,
     "metadata": {},
     "output_type": "execute_result"
    }
   ],
   "source": [
    "# 숫자 텍스트 [] 활용 (1) (0을 추출)\n",
    "hp  = '제 전화번호는 010-1234-5678입니다.'\n",
    "re.findall(\"[0]\", hp)"
   ]
  },
  {
   "cell_type": "code",
   "execution_count": 83,
   "metadata": {
    "ExecuteTime": {
     "end_time": "2020-01-19T08:23:50.065398Z",
     "start_time": "2020-01-19T08:23:50.057460Z"
    }
   },
   "outputs": [
    {
     "data": {
      "text/plain": [
       "['0', '1', '0', '1', '2', '3', '4', '5', '6', '7', '8']"
      ]
     },
     "execution_count": 83,
     "metadata": {},
     "output_type": "execute_result"
    }
   ],
   "source": [
    "# 숫자 텍스트 [] 활용 (2) (모든번호 추출)\n",
    "re.findall(\"[0-9]\", hp)"
   ]
  },
  {
   "cell_type": "code",
   "execution_count": 85,
   "metadata": {
    "ExecuteTime": {
     "end_time": "2020-01-19T09:11:24.275654Z",
     "start_time": "2020-01-19T09:11:24.265874Z"
    }
   },
   "outputs": [
    {
     "data": {
      "text/plain": [
       "['전', '화', '번', '호', '입', '니', '다', '.']"
      ]
     },
     "execution_count": 85,
     "metadata": {},
     "output_type": "execute_result"
    }
   ],
   "source": [
    "# | 활용하기 (or과 비슷한 역할이라고 생각하면 쉽다.)\n",
    "re.findall(\"[입니다.|전화번호]\", hp)"
   ]
  },
  {
   "cell_type": "markdown",
   "metadata": {},
   "source": [
    "사실 특수한 표현을 찾지 않는 이상 위의 표현들은 많이 사용되지는 않을 것입니다.<br>\n",
    "일반적으로는 다음의 문자들이 더 많이 사용됩니다.\n",
    "\n",
    "- 문자+숫자 전체 [a-zA-z0-9] == \\w (한글도 포함)\n",
    "- 숫자 전체 [0-9] == \\d (digit)\n",
    "- 공백 문자(white space) 전체 [\\t\\n\\r\\f\\v] == \\s (space)"
   ]
  },
  {
   "cell_type": "markdown",
   "metadata": {},
   "source": [
    "<img src=\"메타문자표.png\" alt=\"주요옵션\" style=\"width: 1000px;\"/>"
   ]
  },
  {
   "cell_type": "code",
   "execution_count": 86,
   "metadata": {
    "ExecuteTime": {
     "end_time": "2020-01-19T08:23:50.529829Z",
     "start_time": "2020-01-19T08:23:50.522214Z"
    },
    "scrolled": true
   },
   "outputs": [
    {
     "data": {
      "text/plain": [
       "['텍',\n",
       " '스',\n",
       " '트',\n",
       " '마',\n",
       " '이',\n",
       " '닝',\n",
       " '정',\n",
       " '말',\n",
       " '재',\n",
       " '밌',\n",
       " '어',\n",
       " '요',\n",
       " 'ㅎ',\n",
       " 'ㅏ',\n",
       " 'ㅎ',\n",
       " 'ㅏ',\n",
       " 'ㅎ',\n",
       " 'ㅏ',\n",
       " '핳']"
      ]
     },
     "execution_count": 86,
     "metadata": {},
     "output_type": "execute_result"
    }
   ],
   "source": [
    "# \\w 활용 \n",
    "text = \"텍스트마이닝 정말 재밌어요.ㅎㅏㅎㅏㅎㅏ핳\"\n",
    "re.findall(\"\\w\", text)"
   ]
  },
  {
   "cell_type": "code",
   "execution_count": 30,
   "metadata": {
    "ExecuteTime": {
     "end_time": "2020-01-19T08:34:12.046342Z",
     "start_time": "2020-01-19T08:34:12.041246Z"
    }
   },
   "outputs": [],
   "source": [
    "홍윤표 = '''안녕하세요, 홍윤표입니다.\n",
    "제 전화번호는 010-1234-5678입니다.'''"
   ]
  },
  {
   "cell_type": "code",
   "execution_count": 87,
   "metadata": {
    "ExecuteTime": {
     "end_time": "2020-01-19T08:26:19.837581Z",
     "start_time": "2020-01-19T08:26:19.827776Z"
    }
   },
   "outputs": [
    {
     "data": {
      "text/plain": [
       "['0', '1', '0', '1', '2', '3', '4', '5', '6', '7', '8']"
      ]
     },
     "execution_count": 87,
     "metadata": {},
     "output_type": "execute_result"
    }
   ],
   "source": [
    "# \\d 활용\n",
    "re.findall(\"\\d\", 홍윤표)"
   ]
  },
  {
   "cell_type": "markdown",
   "metadata": {},
   "source": [
    "만약 \\ 뒤의 문자를 대문자로 쓰는 경우에는 포함하지 않음을 의미합니다.<br>\n",
    "[]안에 ^을 앞에 쓰는 경우와 일치합니다.\n",
    "- 문자+숫자 전체 제외 [^a-zA-z0-9] == \\W (한글도 포함)\n",
    "- 숫자 전체 제외 [^0-9] == \\D\n",
    "- 공백 문자(white space) 제외 [^\\t\\n\\r\\f\\v] == \\S (space)"
   ]
  },
  {
   "cell_type": "code",
   "execution_count": 88,
   "metadata": {
    "ExecuteTime": {
     "end_time": "2020-01-19T08:23:51.631772Z",
     "start_time": "2020-01-19T08:23:51.625260Z"
    }
   },
   "outputs": [
    {
     "data": {
      "text/plain": [
       "[',', ' ', '.', '\\n', ' ', ' ', '-', '-', '.']"
      ]
     },
     "execution_count": 88,
     "metadata": {},
     "output_type": "execute_result"
    }
   ],
   "source": [
    "# \\W 활용\n",
    "re.findall(\"\\W\", 홍윤표)"
   ]
  },
  {
   "cell_type": "code",
   "execution_count": 89,
   "metadata": {
    "ExecuteTime": {
     "end_time": "2020-01-19T08:23:52.054351Z",
     "start_time": "2020-01-19T08:23:52.045792Z"
    },
    "scrolled": true
   },
   "outputs": [
    {
     "data": {
      "text/plain": [
       "['안',\n",
       " '녕',\n",
       " '하',\n",
       " '세',\n",
       " '요',\n",
       " ',',\n",
       " ' ',\n",
       " '홍',\n",
       " '윤',\n",
       " '표',\n",
       " '입',\n",
       " '니',\n",
       " '다',\n",
       " '.',\n",
       " '\\n',\n",
       " '제',\n",
       " ' ',\n",
       " '전',\n",
       " '화',\n",
       " '번',\n",
       " '호',\n",
       " '는',\n",
       " ' ',\n",
       " '-',\n",
       " '-',\n",
       " '입',\n",
       " '니',\n",
       " '다',\n",
       " '.']"
      ]
     },
     "execution_count": 89,
     "metadata": {},
     "output_type": "execute_result"
    }
   ],
   "source": [
    "# \\D 활용\n",
    "re.findall(\"\\D\", 홍윤표)"
   ]
  },
  {
   "cell_type": "code",
   "execution_count": 90,
   "metadata": {
    "ExecuteTime": {
     "end_time": "2020-01-19T08:25:48.877762Z",
     "start_time": "2020-01-19T08:25:48.869370Z"
    },
    "scrolled": true
   },
   "outputs": [
    {
     "data": {
      "text/plain": [
       "['안',\n",
       " '녕',\n",
       " '하',\n",
       " '세',\n",
       " '요',\n",
       " ',',\n",
       " '홍',\n",
       " '윤',\n",
       " '표',\n",
       " '입',\n",
       " '니',\n",
       " '다',\n",
       " '.',\n",
       " '제',\n",
       " '전',\n",
       " '화',\n",
       " '번',\n",
       " '호',\n",
       " '는',\n",
       " '0',\n",
       " '1',\n",
       " '0',\n",
       " '-',\n",
       " '1',\n",
       " '2',\n",
       " '3',\n",
       " '4',\n",
       " '-',\n",
       " '5',\n",
       " '6',\n",
       " '7',\n",
       " '8',\n",
       " '입',\n",
       " '니',\n",
       " '다',\n",
       " '.']"
      ]
     },
     "execution_count": 90,
     "metadata": {},
     "output_type": "execute_result"
    }
   ],
   "source": [
    "# \\S 활용\n",
    "re.findall(\"\\S\", 홍윤표)"
   ]
  },
  {
   "cell_type": "code",
   "execution_count": 93,
   "metadata": {},
   "outputs": [],
   "source": [
    "# ^사용\n",
    "# ^은 Not이라고 생각하면 된다.\n",
    "# ^은 꼭 []를 사용해주어야 한다.\n"
   ]
  },
  {
   "cell_type": "markdown",
   "metadata": {},
   "source": [
    "Dot(.) 활용하기\n",
    "-----\n",
    "Dot(.)은 뒤의 한 글자와 매치됩니다. (뉴 라인(\\n)을 제외한 모든 문자 가능)"
   ]
  },
  {
   "cell_type": "code",
   "execution_count": 36,
   "metadata": {},
   "outputs": [],
   "source": [
    "홍윤표 = '''안녕하세요, 홍윤표입니다.\n",
    "제 전화번호는 010-1234-5678입니다.'''"
   ]
  },
  {
   "cell_type": "code",
   "execution_count": 94,
   "metadata": {
    "ExecuteTime": {
     "end_time": "2020-01-19T08:34:17.080330Z",
     "start_time": "2020-01-19T08:34:17.071556Z"
    },
    "scrolled": true
   },
   "outputs": [
    {
     "data": {
      "text/plain": [
       "['다.', '다.']"
      ]
     },
     "execution_count": 94,
     "metadata": {},
     "output_type": "execute_result"
    }
   ],
   "source": [
    "# Dot(.)의 의미 (다.)\n",
    "re.findall(\"다.\", 홍윤표)"
   ]
  },
  {
   "cell_type": "code",
   "execution_count": 95,
   "metadata": {
    "ExecuteTime": {
     "end_time": "2020-01-19T08:34:22.774505Z",
     "start_time": "2020-01-19T08:34:22.767293Z"
    }
   },
   "outputs": [
    {
     "data": {
      "text/plain": [
       "['홍윤']"
      ]
     },
     "execution_count": 95,
     "metadata": {},
     "output_type": "execute_result"
    }
   ],
   "source": [
    "# [Dot(.)]의 의미 (홍.)\n",
    "re.findall(\"홍.\", 홍윤표)"
   ]
  },
  {
   "cell_type": "markdown",
   "metadata": {},
   "source": [
    "반복(*, +, {},?) 활용하기\n",
    "-----\n",
    "바로 앞의 문자를 지정해준 만큼 반환합니다.\n",
    "- *는 0번부터 무한히\n",
    "- +는 적어도 1번 반복\n",
    "- {}는 정해준 범위 만큼 반복\n",
    "- ?는 0 또는 1\n"
   ]
  },
  {
   "cell_type": "code",
   "execution_count": 109,
   "metadata": {
    "ExecuteTime": {
     "end_time": "2020-01-19T08:34:28.228220Z",
     "start_time": "2020-01-19T08:34:28.219608Z"
    }
   },
   "outputs": [
    {
     "data": {
      "text/plain": [
       "['홍표', '홍윤표', '홍윤윤윤윤표', '홍윤윤윤윤윤윤윤윤윤윤윤윤윤윤표']"
      ]
     },
     "execution_count": 109,
     "metadata": {},
     "output_type": "execute_result"
    }
   ],
   "source": [
    "# * 활용하기\n",
    "이름 = \"홍표 홍윤표 홍윤윤윤윤표 홍윤윤윤윤윤윤윤윤윤윤윤윤윤윤표\"\n",
    "re.findall(\"홍윤*표\", 이름)"
   ]
  },
  {
   "cell_type": "code",
   "execution_count": 110,
   "metadata": {
    "ExecuteTime": {
     "end_time": "2020-01-19T08:35:14.070863Z",
     "start_time": "2020-01-19T08:35:14.061771Z"
    }
   },
   "outputs": [
    {
     "data": {
      "text/plain": [
       "['홍윤표', '홍윤윤윤윤표', '홍윤윤윤윤윤윤윤윤윤윤윤윤윤윤표']"
      ]
     },
     "execution_count": 110,
     "metadata": {},
     "output_type": "execute_result"
    }
   ],
   "source": [
    "# + 활용하기\n",
    "re.findall(\"홍윤+표\", 이름)"
   ]
  },
  {
   "cell_type": "code",
   "execution_count": 113,
   "metadata": {
    "ExecuteTime": {
     "end_time": "2020-01-19T08:37:35.715164Z",
     "start_time": "2020-01-19T08:37:35.707184Z"
    }
   },
   "outputs": [
    {
     "data": {
      "text/plain": [
       "['홍윤윤윤윤표']"
      ]
     },
     "execution_count": 113,
     "metadata": {},
     "output_type": "execute_result"
    }
   ],
   "source": [
    "# {} 활용하기 (1)\n",
    "re.findall(\"홍윤{4}표\", 이름)"
   ]
  },
  {
   "cell_type": "code",
   "execution_count": 115,
   "metadata": {
    "ExecuteTime": {
     "end_time": "2020-01-19T08:37:46.727106Z",
     "start_time": "2020-01-19T08:37:46.718628Z"
    }
   },
   "outputs": [
    {
     "data": {
      "text/plain": [
       "['홍윤윤윤윤표', '홍윤윤윤윤윤윤윤윤윤윤윤윤윤윤표']"
      ]
     },
     "execution_count": 115,
     "metadata": {},
     "output_type": "execute_result"
    }
   ],
   "source": [
    "# {} 활용하기 (2) {이상,이하}\n",
    "re.findall(\"홍윤{3,20}표\", 이름)"
   ]
  },
  {
   "cell_type": "code",
   "execution_count": 116,
   "metadata": {
    "ExecuteTime": {
     "end_time": "2020-01-19T08:42:14.818426Z",
     "start_time": "2020-01-19T08:42:14.811298Z"
    }
   },
   "outputs": [
    {
     "data": {
      "text/plain": [
       "['홍표', '홍윤표']"
      ]
     },
     "execution_count": 116,
     "metadata": {},
     "output_type": "execute_result"
    }
   ],
   "source": [
    "# ? 활용하기\n",
    "re.findall(\"홍윤?표\", 이름)"
   ]
  },
  {
   "cell_type": "code",
   "execution_count": 48,
   "metadata": {},
   "outputs": [],
   "source": [
    "찐이야 = '''찐 찐 찐 찐 찐이야 완전 찐이야\n",
    "진짜가 나타났다 지금\n",
    "찐 찐 찐 찐 찐이야 완전 찐이야\n",
    "찐하게 사랑할 거야\n",
    "요즘 같이 가짜가 많은 세상에\n",
    "믿을 사람 바로 당신 뿐\n",
    "내 모든 걸 다 줘도 아깝지 않은\n",
    "내 인생에 전부인 사람\n",
    "끌리네 끌리네 자꾸 끌리네\n",
    "쏠리네 쏠리네 자꾸 쏠리네\n",
    "심장을 훔쳐간 사람\n",
    "찐 찐 찐 찐 찐이야 완전 찐이야\n",
    "진짜가 나타났다 지금\n",
    "찐 찐 찐 찐 찐이야 완전 찐이야\n",
    "찐하게 사랑할 거야\n",
    "\n",
    "찐이야~\n",
    "요즘 같이 가짜가 많은 세상에\n",
    "믿을 사람 바로 당신 뿐\n",
    "내 모든 걸 다 줘도 아깝지 않은\n",
    "내 인생에 전부인 사람\n",
    "끌리네 끌리네 자꾸 끌리네\n",
    "쏠리네 쏠리네 자꾸 쏠리네\n",
    "심장을 훔쳐간 사람\n",
    "찐 찐 찐 찐 찐이야 완전 찐이야\n",
    "진짜가 나타났다 지금\n",
    "찐 찐 찐 찐 찐이야 완전 찐이야\n",
    "찐하게 사랑할 거야\n",
    "찐하게 찐하게 찐하게 찐하게\n",
    "찐 찐 찐 찐 찐이야 완전 찐이야\n",
    "진짜가 나타났다 지금\n",
    "찐 찐 찐 찐 찐이야 완전 찐이야\n",
    "찐하게 사랑할 거야\n",
    "찐하게 찐하게 찐하게 찐하게\n",
    "사랑할 거야'''"
   ]
  },
  {
   "cell_type": "code",
   "execution_count": 99,
   "metadata": {
    "ExecuteTime": {
     "end_time": "2020-01-19T08:55:09.475750Z",
     "start_time": "2020-01-19T08:55:09.466818Z"
    }
   },
   "outputs": [
    {
     "data": {
      "text/plain": [
       "29"
      ]
     },
     "execution_count": 99,
     "metadata": {},
     "output_type": "execute_result"
    }
   ],
   "source": [
    "# 찐이야에서 '찐이야', '찐하게'가 몇 번 나왔는지 확인하기\n",
    "len(re.findall(\"찐\\w+\", 찐이야))"
   ]
  },
  {
   "cell_type": "code",
   "execution_count": 104,
   "metadata": {
    "ExecuteTime": {
     "end_time": "2020-01-19T09:08:21.985714Z",
     "start_time": "2020-01-19T09:08:21.978861Z"
    }
   },
   "outputs": [
    {
     "data": {
      "text/plain": [
       "32"
      ]
     },
     "execution_count": 104,
     "metadata": {},
     "output_type": "execute_result"
    }
   ],
   "source": [
    "# 공백을 기준으로 하는 경우 (\\b)\n",
    "# r의 의미는 string으로 가져와라(메타문자로 이해 x) 이스케이프 문자를 안써도 \\를 그대로 받을 수 있다.\n",
    "len(re.findall(r\"찐\\b\", 찐이야))"
   ]
  },
  {
   "cell_type": "code",
   "execution_count": null,
   "metadata": {},
   "outputs": [],
   "source": [
    "# 이름 찾기 (1)\n",
    "re.findall(\"[가-힣]{3}입니다\", 홍윤표)"
   ]
  },
  {
   "cell_type": "code",
   "execution_count": null,
   "metadata": {},
   "outputs": [],
   "source": [
    "# 이름 찾기 (2)\n",
    "re.findall(\"[^\\d\\s]{3}입니다\", 홍윤표)"
   ]
  },
  {
   "cell_type": "code",
   "execution_count": null,
   "metadata": {},
   "outputs": [],
   "source": [
    "# 전화번호 찾기\n",
    "re.findall(r\"\\d+-\\d+-\\d+\", 홍윤표)"
   ]
  },
  {
   "cell_type": "code",
   "execution_count": null,
   "metadata": {},
   "outputs": [],
   "source": [
    "#이메일 찾기\n",
    "email = \"제 이메일은 ghddbsvy1130@naver.com 입니다.\"\n",
    "\n",
    "re.findall(\"([a-zA-Z0-9_.+-]+@[a-zA-Z0-9-]+\\.[a-zA-Z-.]+)\", email)"
   ]
  },
  {
   "cell_type": "markdown",
   "metadata": {},
   "source": [
    "<img src=\"정규표현식 자주쓰는 형식.png\" alt=\"주요옵션\" style=\"width: 600px;\"/>"
   ]
  },
  {
   "cell_type": "markdown",
   "metadata": {},
   "source": [
    "그루핑\n",
    "-----\n",
    "- 문자열 중에서 원하는 문자만 그룹화하여 추출할 수 있습니다.\n",
    "- 그룹은 ()을 활용하여 묶어줍니다.\n",
    "- ?P\\<\\> 을 활용하면 그룹의 이름을 정해줄 수 있습니다."
   ]
  },
  {
   "cell_type": "code",
   "execution_count": 56,
   "metadata": {
    "ExecuteTime": {
     "end_time": "2020-01-19T10:00:38.960555Z",
     "start_time": "2020-01-19T10:00:38.956074Z"
    }
   },
   "outputs": [],
   "source": [
    "인적사항 = '''\n",
    "홍윤표 010-7104-8388\n",
    "정혜연 010-5246-5421\n",
    "송지훈 010-5121-9884\n",
    "김수완 010-1237-5112\n",
    "진정민 010-4542-3394\n",
    "강민지 010-7512-4212\n",
    "김성용 010-2248-1239\n",
    "김해준 010-8542-2387\n",
    "양혜리 010-5495-2347\n",
    "최은지 010-8562-5486\n",
    "'''\n",
    "\n",
    "# 제 전화번호를 제외한 번호는 전부 무작위입니다!"
   ]
  },
  {
   "cell_type": "code",
   "execution_count": 97,
   "metadata": {
    "ExecuteTime": {
     "end_time": "2020-01-19T09:43:52.901264Z",
     "start_time": "2020-01-19T09:43:52.896275Z"
    }
   },
   "outputs": [],
   "source": [
    "# 그루핑\n",
    "m = re.search(r\"(\\w+)\\s+(\\d+)-?(\\d+)-?(\\d+)\", 인적사항)"
   ]
  },
  {
   "cell_type": "code",
   "execution_count": null,
   "metadata": {},
   "outputs": [],
   "source": [
    "# 그루핑 인덱싱\n",
    "# 0 = 그루핑된 모든 텍스트 반환\n",
    "# 1~n = 그루핑된 그룹의 인덱스\n",
    "m.group(0)"
   ]
  },
  {
   "cell_type": "code",
   "execution_count": null,
   "metadata": {},
   "outputs": [],
   "source": [
    "# 그룹에 이름 붙이기\n",
    "m = re.search(r\"(?P<name>\\w+)\\s+(\\d+)-?(\\d+)-?(\\d+)\", 인적사항)"
   ]
  },
  {
   "cell_type": "code",
   "execution_count": null,
   "metadata": {},
   "outputs": [],
   "source": [
    "m.group(\"name\")"
   ]
  },
  {
   "cell_type": "code",
   "execution_count": 106,
   "metadata": {
    "ExecuteTime": {
     "end_time": "2020-01-19T09:43:53.795807Z",
     "start_time": "2020-01-19T09:43:53.789782Z"
    }
   },
   "outputs": [],
   "source": [
    "# 그루핑 응용\n",
    "n = re.findall(r'(\\w+)\\s+\\d{3}-\\d{4}-(\\d{4})', 인적사항)"
   ]
  },
  {
   "cell_type": "code",
   "execution_count": null,
   "metadata": {},
   "outputs": [],
   "source": [
    "n"
   ]
  },
  {
   "cell_type": "code",
   "execution_count": 78,
   "metadata": {
    "ExecuteTime": {
     "end_time": "2020-01-19T09:38:59.735669Z",
     "start_time": "2020-01-19T09:38:52.984671Z"
    }
   },
   "outputs": [],
   "source": [
    "import pandas as pd"
   ]
  },
  {
   "cell_type": "code",
   "execution_count": null,
   "metadata": {},
   "outputs": [],
   "source": [
    "# 데이터프레임 만들기\n",
    "pd.DataFrame(re.findall(r'(\\w+)\\s+\\d{3}-\\d{4}-(\\d{4})', 인적사항),\n",
    "            columns = [\"이름\", \"전화번호 뒷자리\"])"
   ]
  },
  {
   "cell_type": "markdown",
   "metadata": {},
   "source": [
    "sub 메서드\n",
    "-----\n",
    "지금까지 정규표현을 배운 이유는 사실 sub 메서드를 잘 활용하기 위해서였습니다.<br>\n",
    "물론 텍스트 분석에서 위의 정규표현식들을 잘 활용하면 더욱 강력한 효과를 결과를 얻을 수 있을 것입니다.\n",
    "\n",
    "앞에는 re.sub(<b>대체하고 싶은 문자(패턴 찾기)</b>, <b>대체할 문자(원하는 문자로 대체하기)</b>, <b>텍스트</b>)"
   ]
  },
  {
   "cell_type": "code",
   "execution_count": 119,
   "metadata": {
    "ExecuteTime": {
     "end_time": "2020-01-19T10:18:35.670467Z",
     "start_time": "2020-01-19T10:18:35.663425Z"
    }
   },
   "outputs": [
    {
     "data": {
      "text/plain": [
       "'텍스트마이닝 season 2 정말 재밌어요.하하하하하하'"
      ]
     },
     "execution_count": 119,
     "metadata": {},
     "output_type": "execute_result"
    }
   ],
   "source": [
    "# sub 메서드 활용하기 (1)\n",
    "text = \"텍스트마이닝 season 2 정말 재밌어요.ㅎㅏㅎㅏㅎㅏ\"\n",
    "re.sub(\"[ㄱ-ㅎㅏ-ㅣ]\", \"\", text)"
   ]
  },
  {
   "cell_type": "code",
   "execution_count": 120,
   "metadata": {
    "ExecuteTime": {
     "end_time": "2020-01-19T10:21:12.489127Z",
     "start_time": "2020-01-19T10:21:12.482077Z"
    }
   },
   "outputs": [
    {
     "data": {
      "text/plain": [
       "'텍스트마이닝 season 2 정말 재밌어요.'"
      ]
     },
     "execution_count": 120,
     "metadata": {},
     "output_type": "execute_result"
    }
   ],
   "source": [
    "# sub 메서드 활용하기 (2)-1 (낱문자 제거)\n",
    "re.sub(\"[ㄱ-ㅎㅏ-ㅣ]\",\"\",text)"
   ]
  },
  {
   "cell_type": "code",
   "execution_count": 128,
   "metadata": {
    "ExecuteTime": {
     "end_time": "2020-01-19T10:21:28.828907Z",
     "start_time": "2020-01-19T10:21:28.819756Z"
    }
   },
   "outputs": [
    {
     "data": {
      "text/plain": [
       "'텍스트마이닝 정말 재밌어요.ㅎㅏㅎㅏㅎㅏ'"
      ]
     },
     "execution_count": 128,
     "metadata": {},
     "output_type": "execute_result"
    }
   ],
   "source": [
    "# sub 메서드 활용하기 (2)-2 영어와 숫자를 없애보자.\n",
    "re.sub(\"[a-zA-Z\\d]+\\s\",\"\",text)"
   ]
  },
  {
   "cell_type": "code",
   "execution_count": 58,
   "metadata": {
    "ExecuteTime": {
     "end_time": "2020-01-19T10:14:03.361088Z",
     "start_time": "2020-01-19T10:14:03.353954Z"
    }
   },
   "outputs": [],
   "source": [
    "# 찐이야의 '찐'를 'BOAZ'로 바꿔보기\n"
   ]
  },
  {
   "cell_type": "code",
   "execution_count": null,
   "metadata": {},
   "outputs": [],
   "source": [
    "# sub 메서드 응용 \n",
    "print(re.sub('(\\w+)\\s+(\\d{3})-?(\\d{4})-?(\\d{4})', '\\g<1> \\g<2>-\\g<3>-****', 인적사항))"
   ]
  }
 ],
 "metadata": {
  "kernelspec": {
   "display_name": "Python 3",
   "language": "python",
   "name": "python3"
  },
  "language_info": {
   "codemirror_mode": {
    "name": "ipython",
    "version": 3
   },
   "file_extension": ".py",
   "mimetype": "text/x-python",
   "name": "python",
   "nbconvert_exporter": "python",
   "pygments_lexer": "ipython3",
   "version": "3.7.3"
  }
 },
 "nbformat": 4,
 "nbformat_minor": 4
}
